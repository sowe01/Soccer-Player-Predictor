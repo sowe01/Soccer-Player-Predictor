{
 "cells": [
  {
   "cell_type": "code",
   "execution_count": 57,
   "metadata": {},
   "outputs": [],
   "source": [
    "import pandas as pd\n",
    "import numpy as np\n",
    "\n",
    "\n",
    "\n",
    "\n",
    "df20 = pd.read_csv('./input/players_20.csv')\n",
    "df19 = pd.read_csv('./input/players_19.csv')\n",
    "df18 = pd.read_csv('./input/players_18.csv')\n",
    "df17 = pd.read_csv('./input/players_17.csv')\n",
    "df16 = pd.read_csv('./input/players_16.csv')\n",
    "df15 = pd.read_csv('./input/players_15.csv')"
   ]
  },
  {
   "cell_type": "code",
   "execution_count": 58,
   "metadata": {},
   "outputs": [],
   "source": [
    "df20['best_position'] = df20['player_positions'].str.split(',').str[0]\n",
    "df19['best_position'] = df19['player_positions'].str.split(',').str[0]\n",
    "df18['best_position'] = df18['player_positions'].str.split(',').str[0]\n",
    "df17['best_position'] = df17['player_positions'].str.split(',').str[0]\n",
    "df16['best_position'] = df16['player_positions'].str.split(',').str[0]\n",
    "df15['best_position'] = df15['player_positions'].str.split(',').str[0]"
   ]
  },
  {
   "cell_type": "code",
   "execution_count": 59,
   "metadata": {},
   "outputs": [],
   "source": [
    "def position (row):\n",
    "    groups = {\n",
    "        'CF' : 'MP',\n",
    "        'LW' : 'EI',\n",
    "        'RW' : 'ED',\n",
    "        'RM' : 'CD',\n",
    "        'LM' : 'CI',\n",
    "        'CDM' : 'CM',\n",
    "        'CAM' : 'CM',\n",
    "        'RB' : 'LD',\n",
    "        'RWB' : 'LD',\n",
    "        'LB' : 'LI',\n",
    "        'LWB' : 'LI',\n",
    "        'CB' : 'DF',\n",
    "        'ST' : 'ST',\n",
    "        'GK' : 'GK',\n",
    "        'CM' : 'CM',\n",
    "    }\n",
    "    return groups[row]\n",
    "\n",
    "df15['best_position'] = df15['best_position'].apply(lambda x: position(x))\n",
    "df16['best_position'] = df16['best_position'].apply(lambda x: position(x))\n",
    "df17['best_position'] = df17['best_position'].apply(lambda x: position(x))\n",
    "df18['best_position'] = df18['best_position'].apply(lambda x: position(x))\n",
    "df19['best_position'] = df19['best_position'].apply(lambda x: position(x))\n",
    "df20['best_position'] = df20['best_position'].apply(lambda x: position(x))"
   ]
  },
  {
   "cell_type": "code",
   "execution_count": 60,
   "metadata": {},
   "outputs": [
    {
     "data": {
      "text/plain": [
       "array(['ED', 'ST', 'EI', 'GK', 'CM', 'DF', 'MP', 'LI', 'LD', 'CD', 'CI'],\n",
       "      dtype=object)"
      ]
     },
     "execution_count": 60,
     "metadata": {},
     "output_type": "execute_result"
    }
   ],
   "source": [
    "df20['best_position'].unique()"
   ]
  },
  {
   "cell_type": "code",
   "execution_count": 61,
   "metadata": {},
   "outputs": [
    {
     "name": "stdout",
     "output_type": "stream",
     "text": [
      "4-3-3 in FIFA 20\n",
      "Position              Player Overall\n",
      "      GK            J. Oblak      91\n",
      "      LI          Jordi Alba      87\n",
      "      DF         V. van Dijk      90\n",
      "      DF        K. Koulibaly      89\n",
      "      LD          J. Kimmich      86\n",
      "      CM        K. De Bruyne      91\n",
      "      CM           L. Modrić      90\n",
      "      CM            N. Kanté      89\n",
      "      EI           Neymar Jr      92\n",
      "      ST   Cristiano Ronaldo      93\n",
      "      ED            L. Messi      94\n",
      "3-4-3 in FIFA 19\n",
      "Position              Player Overall\n",
      "      GK              De Gea      91\n",
      "      DF        Sergio Ramos      91\n",
      "      DF            D. Godín      90\n",
      "      DF        G. Chiellini      89\n",
      "      CI          I. Perišić      86\n",
      "      CM        K. De Bruyne      91\n",
      "      CM           L. Modrić      91\n",
      "      CD           A. Robben      85\n",
      "      EI           Neymar Jr      92\n",
      "      ST   Cristiano Ronaldo      94\n",
      "      ED            M. Salah      88\n",
      "3-5-2 in FIFA 18\n",
      "Position           Player Overall\n",
      "      GK         M. Neuer      92\n",
      "      DF     Sergio Ramos      90\n",
      "      DF     G. Chiellini      89\n",
      "      DF     Thiago Silva      88\n",
      "      LI          Marcelo      87\n",
      "      LD         Carvajal      84\n",
      "      CM         T. Kroos      90\n",
      "      CM     K. De Bruyne      89\n",
      "      MP       D. Mertens      86\n",
      "      ST        L. Suárez      92\n",
      "      ST   R. Lewandowski      91\n",
      "4-2-2 in FIFA 17\n",
      "Position           Player Overall\n",
      "      GK         M. Neuer      92\n",
      "      LI         D. Alaba      87\n",
      "      DF       J. Boateng      90\n",
      "      DF     Sergio Ramos      89\n",
      "      LD          P. Lahm      88\n",
      "      CI        E. Hazard      88\n",
      "      CM          M. Özil      89\n",
      "      CM        L. Modrić      89\n",
      "      CD        A. Robben      87\n",
      "      ST        L. Suárez      92\n",
      "      ST   Z. Ibrahimović      90\n",
      "5-2-3 in FIFA 16\n",
      "Position           Player Overall\n",
      "      GK         M. Neuer      90\n",
      "      LI         D. Alaba      85\n",
      "      DF     Thiago Silva      88\n",
      "      DF       J. Boateng      87\n",
      "      DF     G. Chiellini      87\n",
      "      LD       Dani Alves      84\n",
      "      CM      David Silva      88\n",
      "      CM     J. Rodríguez      87\n",
      "      ST        L. Suárez      90\n",
      "      ST   Z. Ibrahimović      89\n",
      "      ST   R. Lewandowski      87\n",
      "4-5-1 in FIFA 15\n",
      "Position              Player Overall\n",
      "      GK            M. Neuer      90\n",
      "      LI            D. Alaba      82\n",
      "      DF        Sergio Ramos      87\n",
      "      DF        Thiago Silva      87\n",
      "      LD          Dani Alves      83\n",
      "      CM   B. Schweinsteiger      88\n",
      "      CM             P. Lahm      87\n",
      "      EI   Cristiano Ronaldo      92\n",
      "      MP            L. Messi      93\n",
      "      ED          A. Sánchez      84\n",
      "      ST      Z. Ibrahimović      90\n"
     ]
    }
   ],
   "source": [
    "def get_best_squad(df_name, position):\n",
    "    df_copy = df_name.copy()\n",
    "    store = []\n",
    "    for i in position:\n",
    "        store.append([i,df_copy.loc[[df_copy[df_copy['best_position'] == i]['overall'].idxmax()]]['short_name'].to_string(index = False), df_copy[df_copy['best_position'] == i]['overall'].max()])\n",
    "        df_copy.drop(df_copy[df_copy['best_position'] == i]['overall'].idxmax(), inplace = True)\n",
    "    #return store\n",
    "    return pd.DataFrame(np.array(store).reshape(11,3), columns = ['Position', 'Player', 'Overall']).to_string(index = False)\n",
    "\n",
    "# 4-3-3\n",
    "squad_433 = ['GK', 'LI', 'DF', 'DF', 'LD', 'CM', 'CM', 'CM', 'EI', 'ST', 'ED']\n",
    "squad_343 = ['GK', 'DF', 'DF', 'DF', 'CI', 'CM', 'CM', 'CD', 'EI', 'ST', 'ED']\n",
    "squad_352 = ['GK', 'DF', 'DF', 'DF', 'LI', 'LD', 'CM', 'CM', 'MP', 'ST', 'ST']\n",
    "squad_442 = ['GK', 'LI', 'DF', 'DF', 'LD', 'CI', 'CM', 'CM', 'CD', 'ST', 'ST']\n",
    "squad_523 = ['GK', 'LI', 'DF', 'DF', 'DF', 'LD', 'CM', 'CM', 'ST', 'ST', 'ST']\n",
    "squad_451 = ['GK', 'LI', 'DF', 'DF', 'LD', 'CM', 'CM', 'EI', 'MP', 'ED', 'ST']\n",
    "\n",
    "\n",
    "print ('4-3-3 in FIFA 20')\n",
    "print (get_best_squad(df20, squad_433))\n",
    "print ('3-4-3 in FIFA 19')\n",
    "print (get_best_squad(df19, squad_343))\n",
    "print ('3-5-2 in FIFA 18')\n",
    "print (get_best_squad(df18, squad_352))\n",
    "print ('4-2-2 in FIFA 17')\n",
    "print (get_best_squad(df17, squad_442))\n",
    "print ('5-2-3 in FIFA 16')\n",
    "print (get_best_squad(df16, squad_523))\n",
    "print ('4-5-1 in FIFA 15')\n",
    "print (get_best_squad(df15, squad_451))"
   ]
  },
  {
   "cell_type": "markdown",
   "metadata": {},
   "source": [
    "Hago lo mismo con la prediccion de 2021"
   ]
  },
  {
   "cell_type": "code",
   "execution_count": 62,
   "metadata": {},
   "outputs": [
    {
     "data": {
      "text/html": [
       "<div>\n",
       "<style scoped>\n",
       "    .dataframe tbody tr th:only-of-type {\n",
       "        vertical-align: middle;\n",
       "    }\n",
       "\n",
       "    .dataframe tbody tr th {\n",
       "        vertical-align: top;\n",
       "    }\n",
       "\n",
       "    .dataframe thead th {\n",
       "        text-align: right;\n",
       "    }\n",
       "</style>\n",
       "<table border=\"1\" class=\"dataframe\">\n",
       "  <thead>\n",
       "    <tr style=\"text-align: right;\">\n",
       "      <th></th>\n",
       "      <th>sofifa_id</th>\n",
       "      <th>overall</th>\n",
       "    </tr>\n",
       "  </thead>\n",
       "  <tbody>\n",
       "    <tr>\n",
       "      <th>0</th>\n",
       "      <td>158023</td>\n",
       "      <td>93.334595</td>\n",
       "    </tr>\n",
       "    <tr>\n",
       "      <th>1</th>\n",
       "      <td>20801</td>\n",
       "      <td>92.799469</td>\n",
       "    </tr>\n",
       "    <tr>\n",
       "      <th>2</th>\n",
       "      <td>190871</td>\n",
       "      <td>92.543037</td>\n",
       "    </tr>\n",
       "    <tr>\n",
       "      <th>3</th>\n",
       "      <td>200389</td>\n",
       "      <td>90.172699</td>\n",
       "    </tr>\n",
       "    <tr>\n",
       "      <th>4</th>\n",
       "      <td>183277</td>\n",
       "      <td>91.046577</td>\n",
       "    </tr>\n",
       "  </tbody>\n",
       "</table>\n",
       "</div>"
      ],
      "text/plain": [
       "   sofifa_id    overall\n",
       "0     158023  93.334595\n",
       "1      20801  92.799469\n",
       "2     190871  92.543037\n",
       "3     200389  90.172699\n",
       "4     183277  91.046577"
      ]
     },
     "execution_count": 62,
     "metadata": {},
     "output_type": "execute_result"
    }
   ],
   "source": [
    "testing = pd.read_csv('output/predictfinal2.csv')\n",
    "testing.head()"
   ]
  },
  {
   "cell_type": "code",
   "execution_count": 63,
   "metadata": {},
   "outputs": [],
   "source": [
    "testing['overall'] = testing['overall'].round()"
   ]
  },
  {
   "cell_type": "code",
   "execution_count": 64,
   "metadata": {},
   "outputs": [
    {
     "data": {
      "text/html": [
       "<div>\n",
       "<style scoped>\n",
       "    .dataframe tbody tr th:only-of-type {\n",
       "        vertical-align: middle;\n",
       "    }\n",
       "\n",
       "    .dataframe tbody tr th {\n",
       "        vertical-align: top;\n",
       "    }\n",
       "\n",
       "    .dataframe thead th {\n",
       "        text-align: right;\n",
       "    }\n",
       "</style>\n",
       "<table border=\"1\" class=\"dataframe\">\n",
       "  <thead>\n",
       "    <tr style=\"text-align: right;\">\n",
       "      <th></th>\n",
       "      <th>sofifa_id</th>\n",
       "      <th>overall</th>\n",
       "    </tr>\n",
       "  </thead>\n",
       "  <tbody>\n",
       "    <tr>\n",
       "      <th>0</th>\n",
       "      <td>158023</td>\n",
       "      <td>93.0</td>\n",
       "    </tr>\n",
       "    <tr>\n",
       "      <th>1</th>\n",
       "      <td>20801</td>\n",
       "      <td>93.0</td>\n",
       "    </tr>\n",
       "    <tr>\n",
       "      <th>2</th>\n",
       "      <td>190871</td>\n",
       "      <td>93.0</td>\n",
       "    </tr>\n",
       "    <tr>\n",
       "      <th>3</th>\n",
       "      <td>200389</td>\n",
       "      <td>90.0</td>\n",
       "    </tr>\n",
       "    <tr>\n",
       "      <th>4</th>\n",
       "      <td>183277</td>\n",
       "      <td>91.0</td>\n",
       "    </tr>\n",
       "  </tbody>\n",
       "</table>\n",
       "</div>"
      ],
      "text/plain": [
       "   sofifa_id  overall\n",
       "0     158023     93.0\n",
       "1      20801     93.0\n",
       "2     190871     93.0\n",
       "3     200389     90.0\n",
       "4     183277     91.0"
      ]
     },
     "execution_count": 64,
     "metadata": {},
     "output_type": "execute_result"
    }
   ],
   "source": [
    "testing.head()"
   ]
  },
  {
   "cell_type": "markdown",
   "metadata": {},
   "source": [
    "Añado las columnas 'best_position' y 'short_name'"
   ]
  },
  {
   "cell_type": "code",
   "execution_count": 65,
   "metadata": {},
   "outputs": [],
   "source": [
    "testing['best_position'] = df20[['best_position']]"
   ]
  },
  {
   "cell_type": "code",
   "execution_count": 66,
   "metadata": {},
   "outputs": [],
   "source": [
    "testing['short_name'] = df20[['short_name']]"
   ]
  },
  {
   "cell_type": "code",
   "execution_count": 67,
   "metadata": {},
   "outputs": [
    {
     "data": {
      "text/html": [
       "<div>\n",
       "<style scoped>\n",
       "    .dataframe tbody tr th:only-of-type {\n",
       "        vertical-align: middle;\n",
       "    }\n",
       "\n",
       "    .dataframe tbody tr th {\n",
       "        vertical-align: top;\n",
       "    }\n",
       "\n",
       "    .dataframe thead th {\n",
       "        text-align: right;\n",
       "    }\n",
       "</style>\n",
       "<table border=\"1\" class=\"dataframe\">\n",
       "  <thead>\n",
       "    <tr style=\"text-align: right;\">\n",
       "      <th></th>\n",
       "      <th>sofifa_id</th>\n",
       "      <th>overall</th>\n",
       "      <th>best_position</th>\n",
       "      <th>short_name</th>\n",
       "    </tr>\n",
       "  </thead>\n",
       "  <tbody>\n",
       "    <tr>\n",
       "      <th>0</th>\n",
       "      <td>158023</td>\n",
       "      <td>93.0</td>\n",
       "      <td>ED</td>\n",
       "      <td>L. Messi</td>\n",
       "    </tr>\n",
       "    <tr>\n",
       "      <th>1</th>\n",
       "      <td>20801</td>\n",
       "      <td>93.0</td>\n",
       "      <td>ST</td>\n",
       "      <td>Cristiano Ronaldo</td>\n",
       "    </tr>\n",
       "    <tr>\n",
       "      <th>2</th>\n",
       "      <td>190871</td>\n",
       "      <td>93.0</td>\n",
       "      <td>EI</td>\n",
       "      <td>Neymar Jr</td>\n",
       "    </tr>\n",
       "    <tr>\n",
       "      <th>3</th>\n",
       "      <td>200389</td>\n",
       "      <td>90.0</td>\n",
       "      <td>GK</td>\n",
       "      <td>J. Oblak</td>\n",
       "    </tr>\n",
       "    <tr>\n",
       "      <th>4</th>\n",
       "      <td>183277</td>\n",
       "      <td>91.0</td>\n",
       "      <td>EI</td>\n",
       "      <td>E. Hazard</td>\n",
       "    </tr>\n",
       "  </tbody>\n",
       "</table>\n",
       "</div>"
      ],
      "text/plain": [
       "   sofifa_id  overall best_position         short_name\n",
       "0     158023     93.0            ED           L. Messi\n",
       "1      20801     93.0            ST  Cristiano Ronaldo\n",
       "2     190871     93.0            EI          Neymar Jr\n",
       "3     200389     90.0            GK           J. Oblak\n",
       "4     183277     91.0            EI          E. Hazard"
      ]
     },
     "execution_count": 67,
     "metadata": {},
     "output_type": "execute_result"
    }
   ],
   "source": [
    "testing.head()"
   ]
  },
  {
   "cell_type": "markdown",
   "metadata": {},
   "source": [
    "Lo pruebo y ..."
   ]
  },
  {
   "cell_type": "code",
   "execution_count": 68,
   "metadata": {},
   "outputs": [
    {
     "name": "stdout",
     "output_type": "stream",
     "text": [
      "4-3-3 in FIFA 21\n",
      "Position              Player Overall\n",
      "      GK            J. Oblak    90.0\n",
      "      LI          Jordi Alba    87.0\n",
      "      DF         V. van Dijk    89.0\n",
      "      DF        K. Koulibaly    89.0\n",
      "      LD            Carvajal    86.0\n",
      "      CM        K. De Bruyne    91.0\n",
      "      CM           L. Modrić    89.0\n",
      "      CM            N. Kanté    89.0\n",
      "      EI           Neymar Jr    93.0\n",
      "      ST   Cristiano Ronaldo    93.0\n",
      "      ED            L. Messi    93.0\n"
     ]
    }
   ],
   "source": [
    "print ('4-3-3 in FIFA 21')\n",
    "print (get_best_squad(testing, squad_433))"
   ]
  },
  {
   "cell_type": "markdown",
   "metadata": {},
   "source": [
    "## edad"
   ]
  },
  {
   "cell_type": "code",
   "execution_count": 72,
   "metadata": {},
   "outputs": [],
   "source": [
    "def age(df, n):\n",
    "    edad = (df[df['age']]<= n)\n",
    "    return edad"
   ]
  },
  {
   "cell_type": "code",
   "execution_count": 73,
   "metadata": {},
   "outputs": [
    {
     "ename": "KeyError",
     "evalue": "\"None of [Int64Index([32, 34, 27, 26, 28, 28, 27, 27, 33, 27,\\n            ...\\n            18, 18, 21, 20, 20, 22, 22, 19, 18, 26],\\n           dtype='int64', length=18278)] are in the [columns]\"",
     "output_type": "error",
     "traceback": [
      "\u001b[0;31m---------------------------------------------------------------------------\u001b[0m",
      "\u001b[0;31mKeyError\u001b[0m                                  Traceback (most recent call last)",
      "\u001b[0;32m<ipython-input-73-a035c7f6e03e>\u001b[0m in \u001b[0;36m<module>\u001b[0;34m()\u001b[0m\n\u001b[0;32m----> 1\u001b[0;31m \u001b[0mage\u001b[0m \u001b[0;34m(\u001b[0m\u001b[0mdf20\u001b[0m\u001b[0;34m,\u001b[0m \u001b[0;34m'20'\u001b[0m\u001b[0;34m)\u001b[0m\u001b[0;34m\u001b[0m\u001b[0;34m\u001b[0m\u001b[0m\n\u001b[0m",
      "\u001b[0;32m<ipython-input-72-191cfb4a4525>\u001b[0m in \u001b[0;36mage\u001b[0;34m(df, n)\u001b[0m\n\u001b[1;32m      1\u001b[0m \u001b[0;32mdef\u001b[0m \u001b[0mage\u001b[0m\u001b[0;34m(\u001b[0m\u001b[0mdf\u001b[0m\u001b[0;34m,\u001b[0m \u001b[0mn\u001b[0m\u001b[0;34m)\u001b[0m\u001b[0;34m:\u001b[0m\u001b[0;34m\u001b[0m\u001b[0;34m\u001b[0m\u001b[0m\n\u001b[0;32m----> 2\u001b[0;31m     \u001b[0medad\u001b[0m \u001b[0;34m=\u001b[0m \u001b[0;34m(\u001b[0m\u001b[0mdf\u001b[0m\u001b[0;34m[\u001b[0m\u001b[0mdf\u001b[0m\u001b[0;34m[\u001b[0m\u001b[0;34m'age'\u001b[0m\u001b[0;34m]\u001b[0m\u001b[0;34m]\u001b[0m\u001b[0;34m<=\u001b[0m \u001b[0mn\u001b[0m\u001b[0;34m)\u001b[0m\u001b[0;34m\u001b[0m\u001b[0;34m\u001b[0m\u001b[0m\n\u001b[0m\u001b[1;32m      3\u001b[0m     \u001b[0;32mreturn\u001b[0m \u001b[0medad\u001b[0m\u001b[0;34m\u001b[0m\u001b[0;34m\u001b[0m\u001b[0m\n",
      "\u001b[0;32m/home/jose/.local/lib/python3.6/site-packages/pandas/core/frame.py\u001b[0m in \u001b[0;36m__getitem__\u001b[0;34m(self, key)\u001b[0m\n\u001b[1;32m   2804\u001b[0m             \u001b[0;32mif\u001b[0m \u001b[0mis_iterator\u001b[0m\u001b[0;34m(\u001b[0m\u001b[0mkey\u001b[0m\u001b[0;34m)\u001b[0m\u001b[0;34m:\u001b[0m\u001b[0;34m\u001b[0m\u001b[0;34m\u001b[0m\u001b[0m\n\u001b[1;32m   2805\u001b[0m                 \u001b[0mkey\u001b[0m \u001b[0;34m=\u001b[0m \u001b[0mlist\u001b[0m\u001b[0;34m(\u001b[0m\u001b[0mkey\u001b[0m\u001b[0;34m)\u001b[0m\u001b[0;34m\u001b[0m\u001b[0;34m\u001b[0m\u001b[0m\n\u001b[0;32m-> 2806\u001b[0;31m             \u001b[0mindexer\u001b[0m \u001b[0;34m=\u001b[0m \u001b[0mself\u001b[0m\u001b[0;34m.\u001b[0m\u001b[0mloc\u001b[0m\u001b[0;34m.\u001b[0m\u001b[0m_get_listlike_indexer\u001b[0m\u001b[0;34m(\u001b[0m\u001b[0mkey\u001b[0m\u001b[0;34m,\u001b[0m \u001b[0maxis\u001b[0m\u001b[0;34m=\u001b[0m\u001b[0;36m1\u001b[0m\u001b[0;34m,\u001b[0m \u001b[0mraise_missing\u001b[0m\u001b[0;34m=\u001b[0m\u001b[0;32mTrue\u001b[0m\u001b[0;34m)\u001b[0m\u001b[0;34m[\u001b[0m\u001b[0;36m1\u001b[0m\u001b[0;34m]\u001b[0m\u001b[0;34m\u001b[0m\u001b[0;34m\u001b[0m\u001b[0m\n\u001b[0m\u001b[1;32m   2807\u001b[0m \u001b[0;34m\u001b[0m\u001b[0m\n\u001b[1;32m   2808\u001b[0m         \u001b[0;31m# take() does not accept boolean indexers\u001b[0m\u001b[0;34m\u001b[0m\u001b[0;34m\u001b[0m\u001b[0;34m\u001b[0m\u001b[0m\n",
      "\u001b[0;32m/home/jose/.local/lib/python3.6/site-packages/pandas/core/indexing.py\u001b[0m in \u001b[0;36m_get_listlike_indexer\u001b[0;34m(self, key, axis, raise_missing)\u001b[0m\n\u001b[1;32m   1550\u001b[0m \u001b[0;34m\u001b[0m\u001b[0m\n\u001b[1;32m   1551\u001b[0m         self._validate_read_indexer(\n\u001b[0;32m-> 1552\u001b[0;31m             \u001b[0mkeyarr\u001b[0m\u001b[0;34m,\u001b[0m \u001b[0mindexer\u001b[0m\u001b[0;34m,\u001b[0m \u001b[0mo\u001b[0m\u001b[0;34m.\u001b[0m\u001b[0m_get_axis_number\u001b[0m\u001b[0;34m(\u001b[0m\u001b[0maxis\u001b[0m\u001b[0;34m)\u001b[0m\u001b[0;34m,\u001b[0m \u001b[0mraise_missing\u001b[0m\u001b[0;34m=\u001b[0m\u001b[0mraise_missing\u001b[0m\u001b[0;34m\u001b[0m\u001b[0;34m\u001b[0m\u001b[0m\n\u001b[0m\u001b[1;32m   1553\u001b[0m         )\n\u001b[1;32m   1554\u001b[0m         \u001b[0;32mreturn\u001b[0m \u001b[0mkeyarr\u001b[0m\u001b[0;34m,\u001b[0m \u001b[0mindexer\u001b[0m\u001b[0;34m\u001b[0m\u001b[0;34m\u001b[0m\u001b[0m\n",
      "\u001b[0;32m/home/jose/.local/lib/python3.6/site-packages/pandas/core/indexing.py\u001b[0m in \u001b[0;36m_validate_read_indexer\u001b[0;34m(self, key, indexer, axis, raise_missing)\u001b[0m\n\u001b[1;32m   1637\u001b[0m             \u001b[0;32mif\u001b[0m \u001b[0mmissing\u001b[0m \u001b[0;34m==\u001b[0m \u001b[0mlen\u001b[0m\u001b[0;34m(\u001b[0m\u001b[0mindexer\u001b[0m\u001b[0;34m)\u001b[0m\u001b[0;34m:\u001b[0m\u001b[0;34m\u001b[0m\u001b[0;34m\u001b[0m\u001b[0m\n\u001b[1;32m   1638\u001b[0m                 \u001b[0maxis_name\u001b[0m \u001b[0;34m=\u001b[0m \u001b[0mself\u001b[0m\u001b[0;34m.\u001b[0m\u001b[0mobj\u001b[0m\u001b[0;34m.\u001b[0m\u001b[0m_get_axis_name\u001b[0m\u001b[0;34m(\u001b[0m\u001b[0maxis\u001b[0m\u001b[0;34m)\u001b[0m\u001b[0;34m\u001b[0m\u001b[0;34m\u001b[0m\u001b[0m\n\u001b[0;32m-> 1639\u001b[0;31m                 \u001b[0;32mraise\u001b[0m \u001b[0mKeyError\u001b[0m\u001b[0;34m(\u001b[0m\u001b[0;34mf\"None of [{key}] are in the [{axis_name}]\"\u001b[0m\u001b[0;34m)\u001b[0m\u001b[0;34m\u001b[0m\u001b[0;34m\u001b[0m\u001b[0m\n\u001b[0m\u001b[1;32m   1640\u001b[0m \u001b[0;34m\u001b[0m\u001b[0m\n\u001b[1;32m   1641\u001b[0m             \u001b[0;31m# We (temporarily) allow for some missing keys with .loc, except in\u001b[0m\u001b[0;34m\u001b[0m\u001b[0;34m\u001b[0m\u001b[0;34m\u001b[0m\u001b[0m\n",
      "\u001b[0;31mKeyError\u001b[0m: \"None of [Int64Index([32, 34, 27, 26, 28, 28, 27, 27, 33, 27,\\n            ...\\n            18, 18, 21, 20, 20, 22, 22, 19, 18, 26],\\n           dtype='int64', length=18278)] are in the [columns]\""
     ]
    }
   ],
   "source": [
    "age (df20, '20')"
   ]
  },
  {
   "cell_type": "code",
   "execution_count": null,
   "metadata": {},
   "outputs": [],
   "source": []
  }
 ],
 "metadata": {
  "kernelspec": {
   "display_name": "Python 3",
   "language": "python",
   "name": "python3"
  },
  "language_info": {
   "codemirror_mode": {
    "name": "ipython",
    "version": 3
   },
   "file_extension": ".py",
   "mimetype": "text/x-python",
   "name": "python",
   "nbconvert_exporter": "python",
   "pygments_lexer": "ipython3",
   "version": "3.6.9"
  }
 },
 "nbformat": 4,
 "nbformat_minor": 2
}
