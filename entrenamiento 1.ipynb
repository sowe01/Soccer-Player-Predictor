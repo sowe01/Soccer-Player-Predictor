{
 "cells": [
  {
   "cell_type": "code",
   "execution_count": 17,
   "metadata": {},
   "outputs": [],
   "source": [
    "import numpy as np\n",
    "import pandas as pd"
   ]
  },
  {
   "cell_type": "code",
   "execution_count": 18,
   "metadata": {
    "scrolled": true
   },
   "outputs": [
    {
     "data": {
      "text/html": [
       "<div>\n",
       "<style scoped>\n",
       "    .dataframe tbody tr th:only-of-type {\n",
       "        vertical-align: middle;\n",
       "    }\n",
       "\n",
       "    .dataframe tbody tr th {\n",
       "        vertical-align: top;\n",
       "    }\n",
       "\n",
       "    .dataframe thead th {\n",
       "        text-align: right;\n",
       "    }\n",
       "</style>\n",
       "<table border=\"1\" class=\"dataframe\">\n",
       "  <thead>\n",
       "    <tr style=\"text-align: right;\">\n",
       "      <th></th>\n",
       "      <th>sofifa_id</th>\n",
       "      <th>age</th>\n",
       "      <th>height_cm</th>\n",
       "      <th>weight_kg</th>\n",
       "      <th>nationality</th>\n",
       "      <th>club</th>\n",
       "      <th>overall</th>\n",
       "      <th>potential</th>\n",
       "      <th>value_eur</th>\n",
       "      <th>wage_eur</th>\n",
       "      <th>...</th>\n",
       "      <th>ldm</th>\n",
       "      <th>cdm</th>\n",
       "      <th>rdm</th>\n",
       "      <th>rwb</th>\n",
       "      <th>lb</th>\n",
       "      <th>lcb</th>\n",
       "      <th>cb</th>\n",
       "      <th>rcb</th>\n",
       "      <th>rb</th>\n",
       "      <th>year</th>\n",
       "    </tr>\n",
       "  </thead>\n",
       "  <tbody>\n",
       "    <tr>\n",
       "      <th>0</th>\n",
       "      <td>158023</td>\n",
       "      <td>27</td>\n",
       "      <td>169</td>\n",
       "      <td>67</td>\n",
       "      <td>1</td>\n",
       "      <td>1</td>\n",
       "      <td>93</td>\n",
       "      <td>95</td>\n",
       "      <td>0</td>\n",
       "      <td>0</td>\n",
       "      <td>...</td>\n",
       "      <td>65</td>\n",
       "      <td>65</td>\n",
       "      <td>65</td>\n",
       "      <td>65</td>\n",
       "      <td>57</td>\n",
       "      <td>48</td>\n",
       "      <td>48</td>\n",
       "      <td>48</td>\n",
       "      <td>57</td>\n",
       "      <td>15</td>\n",
       "    </tr>\n",
       "    <tr>\n",
       "      <th>1</th>\n",
       "      <td>20801</td>\n",
       "      <td>29</td>\n",
       "      <td>185</td>\n",
       "      <td>80</td>\n",
       "      <td>1</td>\n",
       "      <td>1</td>\n",
       "      <td>92</td>\n",
       "      <td>92</td>\n",
       "      <td>0</td>\n",
       "      <td>0</td>\n",
       "      <td>...</td>\n",
       "      <td>66</td>\n",
       "      <td>66</td>\n",
       "      <td>66</td>\n",
       "      <td>66</td>\n",
       "      <td>60</td>\n",
       "      <td>55</td>\n",
       "      <td>55</td>\n",
       "      <td>55</td>\n",
       "      <td>60</td>\n",
       "      <td>15</td>\n",
       "    </tr>\n",
       "    <tr>\n",
       "      <th>2</th>\n",
       "      <td>9014</td>\n",
       "      <td>30</td>\n",
       "      <td>180</td>\n",
       "      <td>80</td>\n",
       "      <td>1</td>\n",
       "      <td>1</td>\n",
       "      <td>90</td>\n",
       "      <td>90</td>\n",
       "      <td>0</td>\n",
       "      <td>0</td>\n",
       "      <td>...</td>\n",
       "      <td>67</td>\n",
       "      <td>67</td>\n",
       "      <td>67</td>\n",
       "      <td>67</td>\n",
       "      <td>58</td>\n",
       "      <td>49</td>\n",
       "      <td>49</td>\n",
       "      <td>49</td>\n",
       "      <td>58</td>\n",
       "      <td>15</td>\n",
       "    </tr>\n",
       "    <tr>\n",
       "      <th>3</th>\n",
       "      <td>41236</td>\n",
       "      <td>32</td>\n",
       "      <td>195</td>\n",
       "      <td>95</td>\n",
       "      <td>1</td>\n",
       "      <td>1</td>\n",
       "      <td>90</td>\n",
       "      <td>90</td>\n",
       "      <td>0</td>\n",
       "      <td>0</td>\n",
       "      <td>...</td>\n",
       "      <td>68</td>\n",
       "      <td>68</td>\n",
       "      <td>68</td>\n",
       "      <td>64</td>\n",
       "      <td>59</td>\n",
       "      <td>58</td>\n",
       "      <td>58</td>\n",
       "      <td>58</td>\n",
       "      <td>59</td>\n",
       "      <td>15</td>\n",
       "    </tr>\n",
       "    <tr>\n",
       "      <th>4</th>\n",
       "      <td>167495</td>\n",
       "      <td>28</td>\n",
       "      <td>193</td>\n",
       "      <td>92</td>\n",
       "      <td>1</td>\n",
       "      <td>1</td>\n",
       "      <td>90</td>\n",
       "      <td>90</td>\n",
       "      <td>0</td>\n",
       "      <td>0</td>\n",
       "      <td>...</td>\n",
       "      <td>0</td>\n",
       "      <td>0</td>\n",
       "      <td>0</td>\n",
       "      <td>0</td>\n",
       "      <td>0</td>\n",
       "      <td>0</td>\n",
       "      <td>0</td>\n",
       "      <td>0</td>\n",
       "      <td>0</td>\n",
       "      <td>15</td>\n",
       "    </tr>\n",
       "  </tbody>\n",
       "</table>\n",
       "<p>5 rows × 87 columns</p>\n",
       "</div>"
      ],
      "text/plain": [
       "   sofifa_id  age  height_cm  weight_kg  nationality  club  overall  \\\n",
       "0     158023   27        169         67            1     1       93   \n",
       "1      20801   29        185         80            1     1       92   \n",
       "2       9014   30        180         80            1     1       90   \n",
       "3      41236   32        195         95            1     1       90   \n",
       "4     167495   28        193         92            1     1       90   \n",
       "\n",
       "   potential  value_eur  wage_eur  ...  ldm  cdm  rdm  rwb  lb  lcb  cb  rcb  \\\n",
       "0         95          0         0  ...   65   65   65   65  57   48  48   48   \n",
       "1         92          0         0  ...   66   66   66   66  60   55  55   55   \n",
       "2         90          0         0  ...   67   67   67   67  58   49  49   49   \n",
       "3         90          0         0  ...   68   68   68   64  59   58  58   58   \n",
       "4         90          0         0  ...    0    0    0    0   0    0   0    0   \n",
       "\n",
       "   rb  year  \n",
       "0  57    15  \n",
       "1  60    15  \n",
       "2  58    15  \n",
       "3  59    15  \n",
       "4   0    15  \n",
       "\n",
       "[5 rows x 87 columns]"
      ]
     },
     "execution_count": 18,
     "metadata": {},
     "output_type": "execute_result"
    }
   ],
   "source": [
    "f59 = pd.read_csv('./output/f59.csv')\n",
    "f59.head()"
   ]
  },
  {
   "cell_type": "markdown",
   "metadata": {},
   "source": [
    "## Vamos a entrenar el modelo"
   ]
  },
  {
   "cell_type": "code",
   "execution_count": 20,
   "metadata": {},
   "outputs": [
    {
     "name": "stdout",
     "output_type": "stream",
     "text": [
      "(66173, 86) (16544, 86) (66173,) (16544,)\n"
     ]
    }
   ],
   "source": [
    "from sklearn.model_selection import train_test_split\n",
    "\n",
    "y=f59['overall']\n",
    "c=list(f59.columns)\n",
    "c.remove('overall')\n",
    "X=f59[c]\n",
    "\n",
    "\n",
    "X_train, X_test, y_train, y_test = train_test_split(X, y, test_size=0.2)\n",
    "print(X_train.shape, X_test.shape, y_train.shape, y_test.shape)"
   ]
  },
  {
   "cell_type": "markdown",
   "metadata": {},
   "source": [
    "**modelo regresion lineal**"
   ]
  },
  {
   "cell_type": "markdown",
   "metadata": {},
   "source": [
    "Voy a entrenar modelos de regresion, ya que intento predecir un numero ('overal'), ejemlo: %probabilidad de que llueva.\n",
    "\n",
    "los modelos de clasificacion se utilizan para predecir entre dos opciones, ejemplo: ¿va a llover? si o no"
   ]
  },
  {
   "cell_type": "code",
   "execution_count": 21,
   "metadata": {},
   "outputs": [
    {
     "name": "stdout",
     "output_type": "stream",
     "text": [
      "[ 9.66428025e-06  5.73704304e-01  4.91853390e-03  1.81742001e-02\n",
      "  2.33817570e-02 -1.21987507e-02  5.39877454e-01  8.72624097e-08\n",
      "  5.56583145e-06 -6.50147184e-02 -1.40233956e-01  2.13537485e-02\n",
      "  5.85218093e-01 -2.15998665e-01  5.95116528e-02 -3.05824563e-02\n",
      " -2.07944746e-02  9.59590742e-02 -1.02151801e-01  5.09047668e-02\n",
      "  6.20816376e-02  7.23640658e-02  1.98289908e-02  1.17592107e-01\n",
      "  4.34552180e-02  6.07946085e-02  9.10783571e-03  8.97544997e-03\n",
      "  3.48755914e-02  1.39385893e-02 -1.62781124e-03 -4.24877579e-02\n",
      "  5.74629351e-03  1.35065961e-03 -1.48555380e-02  2.42663803e-02\n",
      " -8.58832860e-03 -1.20301259e-02 -2.25101973e-04  7.38343188e-02\n",
      " -7.87207396e-03  5.52423550e-03 -7.01195597e-04 -5.65308189e-03\n",
      " -1.40221665e-02 -2.23683368e-03 -1.58900813e-02 -1.05015867e-02\n",
      " -2.14503890e-02 -6.17363305e-03  1.03294102e-03  1.31045899e-02\n",
      "  1.42944305e-03 -2.62043516e-02  8.70552386e-03  3.79588687e-03\n",
      "  8.62579078e-03  2.20407500e-03  4.68302888e-03  6.09059002e-02\n",
      "  6.09059002e-02  6.09059002e-02 -1.63444499e-02 -2.74793031e-02\n",
      " -2.74793031e-02 -2.74793031e-02 -1.63444499e-02 -1.49229198e-02\n",
      " -1.49229198e-02 -1.49229198e-02 -9.54098499e-03  2.06456296e-02\n",
      "  2.06456296e-02  2.06456296e-02 -9.54098499e-03  1.57245730e-02\n",
      "  4.61549571e-02  4.61549571e-02  4.61549571e-02  1.57245730e-02\n",
      "  3.47513053e-02  2.25404124e-02  2.25404124e-02  2.25404124e-02\n",
      "  3.47513053e-02 -2.57465933e-01]\n",
      "-14.090197572949961\n"
     ]
    }
   ],
   "source": [
    "from sklearn import linear_model\n",
    "\n",
    "fifa_model= linear_model.LinearRegression()\n",
    "lin = fifa_model.fit(X_train,y_train)\n",
    "print(lin.coef_)\n",
    "print(lin.intercept_)"
   ]
  },
  {
   "cell_type": "code",
   "execution_count": 22,
   "metadata": {},
   "outputs": [],
   "source": [
    "overall_pred = lin.predict(X_train)"
   ]
  },
  {
   "cell_type": "code",
   "execution_count": 24,
   "metadata": {},
   "outputs": [
    {
     "data": {
      "text/plain": [
       "0.9364228836333853"
      ]
     },
     "execution_count": 24,
     "metadata": {},
     "output_type": "execute_result"
    }
   ],
   "source": [
    "from sklearn.metrics import r2_score\n",
    "\n",
    "r2_score(y_train, overall_pred)"
   ]
  },
  {
   "cell_type": "markdown",
   "metadata": {},
   "source": [
    "## Pruebo con otros test"
   ]
  },
  {
   "cell_type": "code",
   "execution_count": 25,
   "metadata": {},
   "outputs": [],
   "source": [
    "from sklearn.ensemble import RandomForestRegressor\n",
    "from sklearn.tree import DecisionTreeRegressor\n",
    "from sklearn.experimental import enable_hist_gradient_boosting\n",
    "from sklearn.ensemble import HistGradientBoostingRegressor\n",
    "from sklearn.ensemble import GradientBoostingRegressor\n",
    "from sklearn.neighbors import KNeighborsRegressor\n",
    "from sklearn.svm import LinearSVR\n",
    "from sklearn.tree import DecisionTreeClassifier\n",
    "from sklearn.linear_model import LogisticRegression"
   ]
  },
  {
   "cell_type": "code",
   "execution_count": 26,
   "metadata": {},
   "outputs": [],
   "source": [
    "from sklearn.model_selection import cross_val_score, KFold\n",
    "kf = KFold(n_splits=5, shuffle=True, random_state=11)"
   ]
  },
  {
   "cell_type": "code",
   "execution_count": 27,
   "metadata": {},
   "outputs": [
    {
     "name": "stdout",
     "output_type": "stream",
     "text": [
      "Training model: Linear\n"
     ]
    },
    {
     "name": "stderr",
     "output_type": "stream",
     "text": [
      "/home/jose/.local/lib/python3.6/site-packages/sklearn/svm/base.py:929: ConvergenceWarning: Liblinear failed to converge, increase the number of iterations.\n",
      "  \"the number of iterations.\", ConvergenceWarning)\n"
     ]
    },
    {
     "name": "stdout",
     "output_type": "stream",
     "text": [
      "-17.683178842752802\n",
      "Training model: neigbor\n",
      "0.8704476517274042\n",
      "Training model: boosting\n",
      "0.975509605185762\n",
      "Training model: boosting2\n",
      "0.9875837222117004\n",
      "Training model: boosting3\n",
      "0.9902741499223167\n",
      "Training model: histboosting\n",
      "0.9903175510646335\n",
      "Training model: histboosting2\n",
      "0.9908268665093303\n",
      "Training model: histboosting3\n",
      "0.9899395717065198\n",
      "Training model: forest\n"
     ]
    },
    {
     "name": "stderr",
     "output_type": "stream",
     "text": [
      "/home/jose/.local/lib/python3.6/site-packages/sklearn/ensemble/forest.py:245: FutureWarning: The default value of n_estimators will change from 10 in version 0.20 to 100 in 0.22.\n",
      "  \"10 in version 0.20 to 100 in 0.22.\", FutureWarning)\n"
     ]
    },
    {
     "name": "stdout",
     "output_type": "stream",
     "text": [
      "0.9927616522997671\n",
      "Training model: forest250\n",
      "0.9940337770529025\n",
      "Training model: forest350\n",
      "0.9940597949981074\n",
      "Training model: tree\n",
      "0.5307218242038364\n"
     ]
    }
   ],
   "source": [
    "models = {\n",
    "    \"Linear\": LinearSVR(),\n",
    "    \"neigbor\":KNeighborsRegressor(),\n",
    "    \"boosting\": GradientBoostingRegressor(),\n",
    "    \"boosting2\": GradientBoostingRegressor(n_estimators=500),\n",
    "    \"boosting3\": GradientBoostingRegressor(n_estimators=1000),\n",
    "    \"histboosting\": HistGradientBoostingRegressor(),\n",
    "    \"histboosting2\": HistGradientBoostingRegressor(learning_rate=0.2),\n",
    "    \"histboosting3\": HistGradientBoostingRegressor(learning_rate=0.4),\n",
    "    \"forest\": RandomForestRegressor(),\n",
    "    \"forest250\": RandomForestRegressor(n_estimators=250),\n",
    "    \"forest350\": RandomForestRegressor(n_estimators=350),\n",
    "    \"tree\": DecisionTreeClassifier(random_state=0, max_depth=2)\n",
    "}\n",
    "\n",
    "for modelName, model in models.items():\n",
    "    print(f\"Training model: {modelName}\")\n",
    "    model.fit(X_train, y_train)\n",
    "    print(np.mean(cross_val_score(model, X_train, y_train, scoring='r2', cv=kf, n_jobs=2)))"
   ]
  },
  {
   "cell_type": "markdown",
   "metadata": {},
   "source": [
    "Se puede ver que los modelos de clasificación no son validos para este caso"
   ]
  },
  {
   "cell_type": "code",
   "execution_count": null,
   "metadata": {},
   "outputs": [],
   "source": []
  }
 ],
 "metadata": {
  "kernelspec": {
   "display_name": "Python 3",
   "language": "python",
   "name": "python3"
  },
  "language_info": {
   "codemirror_mode": {
    "name": "ipython",
    "version": 3
   },
   "file_extension": ".py",
   "mimetype": "text/x-python",
   "name": "python",
   "nbconvert_exporter": "python",
   "pygments_lexer": "ipython3",
   "version": "3.6.9"
  }
 },
 "nbformat": 4,
 "nbformat_minor": 2
}
