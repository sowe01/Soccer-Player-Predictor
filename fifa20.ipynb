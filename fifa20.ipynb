{
 "cells": [
  {
   "cell_type": "code",
   "execution_count": 2,
   "metadata": {},
   "outputs": [],
   "source": [
    "import numpy as np\n",
    "import pandas as pd"
   ]
  },
  {
   "cell_type": "code",
   "execution_count": 3,
   "metadata": {},
   "outputs": [
    {
     "data": {
      "text/plain": [
       "(18278, 103)"
      ]
     },
     "execution_count": 3,
     "metadata": {},
     "output_type": "execute_result"
    }
   ],
   "source": [
    "f20 = pd.read_csv('./input/players_20.csv',index_col='sofifa_id')\n",
    "f20.shape"
   ]
  },
  {
   "cell_type": "code",
   "execution_count": 4,
   "metadata": {},
   "outputs": [
    {
     "data": {
      "text/html": [
       "<div>\n",
       "<style scoped>\n",
       "    .dataframe tbody tr th:only-of-type {\n",
       "        vertical-align: middle;\n",
       "    }\n",
       "\n",
       "    .dataframe tbody tr th {\n",
       "        vertical-align: top;\n",
       "    }\n",
       "\n",
       "    .dataframe thead th {\n",
       "        text-align: right;\n",
       "    }\n",
       "</style>\n",
       "<table border=\"1\" class=\"dataframe\">\n",
       "  <thead>\n",
       "    <tr style=\"text-align: right;\">\n",
       "      <th></th>\n",
       "      <th>player_url</th>\n",
       "      <th>short_name</th>\n",
       "      <th>long_name</th>\n",
       "      <th>age</th>\n",
       "      <th>dob</th>\n",
       "      <th>height_cm</th>\n",
       "      <th>weight_kg</th>\n",
       "      <th>nationality</th>\n",
       "      <th>club</th>\n",
       "      <th>overall</th>\n",
       "      <th>...</th>\n",
       "      <th>lwb</th>\n",
       "      <th>ldm</th>\n",
       "      <th>cdm</th>\n",
       "      <th>rdm</th>\n",
       "      <th>rwb</th>\n",
       "      <th>lb</th>\n",
       "      <th>lcb</th>\n",
       "      <th>cb</th>\n",
       "      <th>rcb</th>\n",
       "      <th>rb</th>\n",
       "    </tr>\n",
       "    <tr>\n",
       "      <th>sofifa_id</th>\n",
       "      <th></th>\n",
       "      <th></th>\n",
       "      <th></th>\n",
       "      <th></th>\n",
       "      <th></th>\n",
       "      <th></th>\n",
       "      <th></th>\n",
       "      <th></th>\n",
       "      <th></th>\n",
       "      <th></th>\n",
       "      <th></th>\n",
       "      <th></th>\n",
       "      <th></th>\n",
       "      <th></th>\n",
       "      <th></th>\n",
       "      <th></th>\n",
       "      <th></th>\n",
       "      <th></th>\n",
       "      <th></th>\n",
       "      <th></th>\n",
       "      <th></th>\n",
       "    </tr>\n",
       "  </thead>\n",
       "  <tbody>\n",
       "    <tr>\n",
       "      <th>158023</th>\n",
       "      <td>https://sofifa.com/player/158023/lionel-messi/...</td>\n",
       "      <td>L. Messi</td>\n",
       "      <td>Lionel Andrés Messi Cuccittini</td>\n",
       "      <td>32</td>\n",
       "      <td>1987-06-24</td>\n",
       "      <td>170</td>\n",
       "      <td>72</td>\n",
       "      <td>Argentina</td>\n",
       "      <td>FC Barcelona</td>\n",
       "      <td>94</td>\n",
       "      <td>...</td>\n",
       "      <td>68+2</td>\n",
       "      <td>66+2</td>\n",
       "      <td>66+2</td>\n",
       "      <td>66+2</td>\n",
       "      <td>68+2</td>\n",
       "      <td>63+2</td>\n",
       "      <td>52+2</td>\n",
       "      <td>52+2</td>\n",
       "      <td>52+2</td>\n",
       "      <td>63+2</td>\n",
       "    </tr>\n",
       "    <tr>\n",
       "      <th>20801</th>\n",
       "      <td>https://sofifa.com/player/20801/c-ronaldo-dos-...</td>\n",
       "      <td>Cristiano Ronaldo</td>\n",
       "      <td>Cristiano Ronaldo dos Santos Aveiro</td>\n",
       "      <td>34</td>\n",
       "      <td>1985-02-05</td>\n",
       "      <td>187</td>\n",
       "      <td>83</td>\n",
       "      <td>Portugal</td>\n",
       "      <td>Juventus</td>\n",
       "      <td>93</td>\n",
       "      <td>...</td>\n",
       "      <td>65+3</td>\n",
       "      <td>61+3</td>\n",
       "      <td>61+3</td>\n",
       "      <td>61+3</td>\n",
       "      <td>65+3</td>\n",
       "      <td>61+3</td>\n",
       "      <td>53+3</td>\n",
       "      <td>53+3</td>\n",
       "      <td>53+3</td>\n",
       "      <td>61+3</td>\n",
       "    </tr>\n",
       "    <tr>\n",
       "      <th>190871</th>\n",
       "      <td>https://sofifa.com/player/190871/neymar-da-sil...</td>\n",
       "      <td>Neymar Jr</td>\n",
       "      <td>Neymar da Silva Santos Junior</td>\n",
       "      <td>27</td>\n",
       "      <td>1992-02-05</td>\n",
       "      <td>175</td>\n",
       "      <td>68</td>\n",
       "      <td>Brazil</td>\n",
       "      <td>Paris Saint-Germain</td>\n",
       "      <td>92</td>\n",
       "      <td>...</td>\n",
       "      <td>66+3</td>\n",
       "      <td>61+3</td>\n",
       "      <td>61+3</td>\n",
       "      <td>61+3</td>\n",
       "      <td>66+3</td>\n",
       "      <td>61+3</td>\n",
       "      <td>46+3</td>\n",
       "      <td>46+3</td>\n",
       "      <td>46+3</td>\n",
       "      <td>61+3</td>\n",
       "    </tr>\n",
       "    <tr>\n",
       "      <th>200389</th>\n",
       "      <td>https://sofifa.com/player/200389/jan-oblak/20/...</td>\n",
       "      <td>J. Oblak</td>\n",
       "      <td>Jan Oblak</td>\n",
       "      <td>26</td>\n",
       "      <td>1993-01-07</td>\n",
       "      <td>188</td>\n",
       "      <td>87</td>\n",
       "      <td>Slovenia</td>\n",
       "      <td>Atlético Madrid</td>\n",
       "      <td>91</td>\n",
       "      <td>...</td>\n",
       "      <td>NaN</td>\n",
       "      <td>NaN</td>\n",
       "      <td>NaN</td>\n",
       "      <td>NaN</td>\n",
       "      <td>NaN</td>\n",
       "      <td>NaN</td>\n",
       "      <td>NaN</td>\n",
       "      <td>NaN</td>\n",
       "      <td>NaN</td>\n",
       "      <td>NaN</td>\n",
       "    </tr>\n",
       "    <tr>\n",
       "      <th>183277</th>\n",
       "      <td>https://sofifa.com/player/183277/eden-hazard/2...</td>\n",
       "      <td>E. Hazard</td>\n",
       "      <td>Eden Hazard</td>\n",
       "      <td>28</td>\n",
       "      <td>1991-01-07</td>\n",
       "      <td>175</td>\n",
       "      <td>74</td>\n",
       "      <td>Belgium</td>\n",
       "      <td>Real Madrid</td>\n",
       "      <td>91</td>\n",
       "      <td>...</td>\n",
       "      <td>66+3</td>\n",
       "      <td>63+3</td>\n",
       "      <td>63+3</td>\n",
       "      <td>63+3</td>\n",
       "      <td>66+3</td>\n",
       "      <td>61+3</td>\n",
       "      <td>49+3</td>\n",
       "      <td>49+3</td>\n",
       "      <td>49+3</td>\n",
       "      <td>61+3</td>\n",
       "    </tr>\n",
       "  </tbody>\n",
       "</table>\n",
       "<p>5 rows × 103 columns</p>\n",
       "</div>"
      ],
      "text/plain": [
       "                                                  player_url  \\\n",
       "sofifa_id                                                      \n",
       "158023     https://sofifa.com/player/158023/lionel-messi/...   \n",
       "20801      https://sofifa.com/player/20801/c-ronaldo-dos-...   \n",
       "190871     https://sofifa.com/player/190871/neymar-da-sil...   \n",
       "200389     https://sofifa.com/player/200389/jan-oblak/20/...   \n",
       "183277     https://sofifa.com/player/183277/eden-hazard/2...   \n",
       "\n",
       "                  short_name                            long_name  age  \\\n",
       "sofifa_id                                                                \n",
       "158023              L. Messi       Lionel Andrés Messi Cuccittini   32   \n",
       "20801      Cristiano Ronaldo  Cristiano Ronaldo dos Santos Aveiro   34   \n",
       "190871             Neymar Jr        Neymar da Silva Santos Junior   27   \n",
       "200389              J. Oblak                            Jan Oblak   26   \n",
       "183277             E. Hazard                          Eden Hazard   28   \n",
       "\n",
       "                  dob  height_cm  weight_kg nationality                 club  \\\n",
       "sofifa_id                                                                      \n",
       "158023     1987-06-24        170         72   Argentina         FC Barcelona   \n",
       "20801      1985-02-05        187         83    Portugal             Juventus   \n",
       "190871     1992-02-05        175         68      Brazil  Paris Saint-Germain   \n",
       "200389     1993-01-07        188         87    Slovenia      Atlético Madrid   \n",
       "183277     1991-01-07        175         74     Belgium          Real Madrid   \n",
       "\n",
       "           overall  ...   lwb   ldm   cdm   rdm   rwb    lb   lcb    cb   rcb  \\\n",
       "sofifa_id           ...                                                         \n",
       "158023          94  ...  68+2  66+2  66+2  66+2  68+2  63+2  52+2  52+2  52+2   \n",
       "20801           93  ...  65+3  61+3  61+3  61+3  65+3  61+3  53+3  53+3  53+3   \n",
       "190871          92  ...  66+3  61+3  61+3  61+3  66+3  61+3  46+3  46+3  46+3   \n",
       "200389          91  ...   NaN   NaN   NaN   NaN   NaN   NaN   NaN   NaN   NaN   \n",
       "183277          91  ...  66+3  63+3  63+3  63+3  66+3  61+3  49+3  49+3  49+3   \n",
       "\n",
       "             rb  \n",
       "sofifa_id        \n",
       "158023     63+2  \n",
       "20801      61+3  \n",
       "190871     61+3  \n",
       "200389      NaN  \n",
       "183277     61+3  \n",
       "\n",
       "[5 rows x 103 columns]"
      ]
     },
     "execution_count": 4,
     "metadata": {},
     "output_type": "execute_result"
    }
   ],
   "source": [
    "f20.head()"
   ]
  },
  {
   "cell_type": "code",
   "execution_count": 5,
   "metadata": {
    "scrolled": true
   },
   "outputs": [
    {
     "data": {
      "text/plain": [
       "['player_url',\n",
       " 'short_name',\n",
       " 'long_name',\n",
       " 'age',\n",
       " 'dob',\n",
       " 'height_cm',\n",
       " 'weight_kg',\n",
       " 'nationality',\n",
       " 'club',\n",
       " 'overall',\n",
       " 'potential',\n",
       " 'value_eur',\n",
       " 'wage_eur',\n",
       " 'player_positions',\n",
       " 'preferred_foot',\n",
       " 'international_reputation',\n",
       " 'weak_foot',\n",
       " 'skill_moves',\n",
       " 'work_rate',\n",
       " 'body_type',\n",
       " 'real_face',\n",
       " 'release_clause_eur',\n",
       " 'player_tags',\n",
       " 'team_position',\n",
       " 'team_jersey_number',\n",
       " 'loaned_from',\n",
       " 'joined',\n",
       " 'contract_valid_until',\n",
       " 'nation_position',\n",
       " 'nation_jersey_number',\n",
       " 'pace',\n",
       " 'shooting',\n",
       " 'passing',\n",
       " 'dribbling',\n",
       " 'defending',\n",
       " 'physic',\n",
       " 'gk_diving',\n",
       " 'gk_handling',\n",
       " 'gk_kicking',\n",
       " 'gk_reflexes',\n",
       " 'gk_speed',\n",
       " 'gk_positioning',\n",
       " 'player_traits',\n",
       " 'attacking_crossing',\n",
       " 'attacking_finishing',\n",
       " 'attacking_heading_accuracy',\n",
       " 'attacking_short_passing',\n",
       " 'attacking_volleys',\n",
       " 'skill_dribbling',\n",
       " 'skill_curve',\n",
       " 'skill_fk_accuracy',\n",
       " 'skill_long_passing',\n",
       " 'skill_ball_control',\n",
       " 'movement_acceleration',\n",
       " 'movement_sprint_speed',\n",
       " 'movement_agility',\n",
       " 'movement_reactions',\n",
       " 'movement_balance',\n",
       " 'power_shot_power',\n",
       " 'power_jumping',\n",
       " 'power_stamina',\n",
       " 'power_strength',\n",
       " 'power_long_shots',\n",
       " 'mentality_aggression',\n",
       " 'mentality_interceptions',\n",
       " 'mentality_positioning',\n",
       " 'mentality_vision',\n",
       " 'mentality_penalties',\n",
       " 'mentality_composure',\n",
       " 'defending_marking',\n",
       " 'defending_standing_tackle',\n",
       " 'defending_sliding_tackle',\n",
       " 'goalkeeping_diving',\n",
       " 'goalkeeping_handling',\n",
       " 'goalkeeping_kicking',\n",
       " 'goalkeeping_positioning',\n",
       " 'goalkeeping_reflexes',\n",
       " 'ls',\n",
       " 'st',\n",
       " 'rs',\n",
       " 'lw',\n",
       " 'lf',\n",
       " 'cf',\n",
       " 'rf',\n",
       " 'rw',\n",
       " 'lam',\n",
       " 'cam',\n",
       " 'ram',\n",
       " 'lm',\n",
       " 'lcm',\n",
       " 'cm',\n",
       " 'rcm',\n",
       " 'rm',\n",
       " 'lwb',\n",
       " 'ldm',\n",
       " 'cdm',\n",
       " 'rdm',\n",
       " 'rwb',\n",
       " 'lb',\n",
       " 'lcb',\n",
       " 'cb',\n",
       " 'rcb',\n",
       " 'rb']"
      ]
     },
     "execution_count": 5,
     "metadata": {},
     "output_type": "execute_result"
    }
   ],
   "source": [
    "f20.columns.tolist()"
   ]
  },
  {
   "cell_type": "markdown",
   "metadata": {},
   "source": [
    "<img src=\"./input/posiciones_fifa.jpg\">"
   ]
  },
  {
   "cell_type": "markdown",
   "metadata": {},
   "source": [
    "añado una columna 'year' para saber en que df esta el jugador"
   ]
  },
  {
   "cell_type": "code",
   "execution_count": 6,
   "metadata": {},
   "outputs": [],
   "source": [
    "f20['year'] = 20"
   ]
  },
  {
   "cell_type": "code",
   "execution_count": 7,
   "metadata": {},
   "outputs": [],
   "source": [
    "f20.to_csv(\"./output/f20_sinlimpiar.csv\")"
   ]
  },
  {
   "cell_type": "code",
   "execution_count": 6,
   "metadata": {},
   "outputs": [],
   "source": [
    "f20 = f20.drop(['player_url', 'short_name','long_name', 'dob', 'real_face',\n",
    "                  'team_position','team_jersey_number','loaned_from','joined',\n",
    "                  'contract_valid_until','nation_position','nation_jersey_number',\n",
    "                  'player_traits','mentality_composure',\n",
    "                  'body_type','player_tags','release_clause_eur'], axis=1)"
   ]
  },
  {
   "cell_type": "code",
   "execution_count": 7,
   "metadata": {},
   "outputs": [
    {
     "data": {
      "text/html": [
       "<div>\n",
       "<style scoped>\n",
       "    .dataframe tbody tr th:only-of-type {\n",
       "        vertical-align: middle;\n",
       "    }\n",
       "\n",
       "    .dataframe tbody tr th {\n",
       "        vertical-align: top;\n",
       "    }\n",
       "\n",
       "    .dataframe thead th {\n",
       "        text-align: right;\n",
       "    }\n",
       "</style>\n",
       "<table border=\"1\" class=\"dataframe\">\n",
       "  <thead>\n",
       "    <tr style=\"text-align: right;\">\n",
       "      <th></th>\n",
       "      <th>age</th>\n",
       "      <th>height_cm</th>\n",
       "      <th>weight_kg</th>\n",
       "      <th>nationality</th>\n",
       "      <th>club</th>\n",
       "      <th>overall</th>\n",
       "      <th>potential</th>\n",
       "      <th>value_eur</th>\n",
       "      <th>wage_eur</th>\n",
       "      <th>player_positions</th>\n",
       "      <th>...</th>\n",
       "      <th>ldm</th>\n",
       "      <th>cdm</th>\n",
       "      <th>rdm</th>\n",
       "      <th>rwb</th>\n",
       "      <th>lb</th>\n",
       "      <th>lcb</th>\n",
       "      <th>cb</th>\n",
       "      <th>rcb</th>\n",
       "      <th>rb</th>\n",
       "      <th>year</th>\n",
       "    </tr>\n",
       "    <tr>\n",
       "      <th>sofifa_id</th>\n",
       "      <th></th>\n",
       "      <th></th>\n",
       "      <th></th>\n",
       "      <th></th>\n",
       "      <th></th>\n",
       "      <th></th>\n",
       "      <th></th>\n",
       "      <th></th>\n",
       "      <th></th>\n",
       "      <th></th>\n",
       "      <th></th>\n",
       "      <th></th>\n",
       "      <th></th>\n",
       "      <th></th>\n",
       "      <th></th>\n",
       "      <th></th>\n",
       "      <th></th>\n",
       "      <th></th>\n",
       "      <th></th>\n",
       "      <th></th>\n",
       "      <th></th>\n",
       "    </tr>\n",
       "  </thead>\n",
       "  <tbody>\n",
       "    <tr>\n",
       "      <th>158023</th>\n",
       "      <td>32</td>\n",
       "      <td>170</td>\n",
       "      <td>72</td>\n",
       "      <td>Argentina</td>\n",
       "      <td>FC Barcelona</td>\n",
       "      <td>94</td>\n",
       "      <td>94</td>\n",
       "      <td>95500000</td>\n",
       "      <td>565000</td>\n",
       "      <td>RW, CF, ST</td>\n",
       "      <td>...</td>\n",
       "      <td>66+2</td>\n",
       "      <td>66+2</td>\n",
       "      <td>66+2</td>\n",
       "      <td>68+2</td>\n",
       "      <td>63+2</td>\n",
       "      <td>52+2</td>\n",
       "      <td>52+2</td>\n",
       "      <td>52+2</td>\n",
       "      <td>63+2</td>\n",
       "      <td>20</td>\n",
       "    </tr>\n",
       "    <tr>\n",
       "      <th>20801</th>\n",
       "      <td>34</td>\n",
       "      <td>187</td>\n",
       "      <td>83</td>\n",
       "      <td>Portugal</td>\n",
       "      <td>Juventus</td>\n",
       "      <td>93</td>\n",
       "      <td>93</td>\n",
       "      <td>58500000</td>\n",
       "      <td>405000</td>\n",
       "      <td>ST, LW</td>\n",
       "      <td>...</td>\n",
       "      <td>61+3</td>\n",
       "      <td>61+3</td>\n",
       "      <td>61+3</td>\n",
       "      <td>65+3</td>\n",
       "      <td>61+3</td>\n",
       "      <td>53+3</td>\n",
       "      <td>53+3</td>\n",
       "      <td>53+3</td>\n",
       "      <td>61+3</td>\n",
       "      <td>20</td>\n",
       "    </tr>\n",
       "    <tr>\n",
       "      <th>190871</th>\n",
       "      <td>27</td>\n",
       "      <td>175</td>\n",
       "      <td>68</td>\n",
       "      <td>Brazil</td>\n",
       "      <td>Paris Saint-Germain</td>\n",
       "      <td>92</td>\n",
       "      <td>92</td>\n",
       "      <td>105500000</td>\n",
       "      <td>290000</td>\n",
       "      <td>LW, CAM</td>\n",
       "      <td>...</td>\n",
       "      <td>61+3</td>\n",
       "      <td>61+3</td>\n",
       "      <td>61+3</td>\n",
       "      <td>66+3</td>\n",
       "      <td>61+3</td>\n",
       "      <td>46+3</td>\n",
       "      <td>46+3</td>\n",
       "      <td>46+3</td>\n",
       "      <td>61+3</td>\n",
       "      <td>20</td>\n",
       "    </tr>\n",
       "    <tr>\n",
       "      <th>200389</th>\n",
       "      <td>26</td>\n",
       "      <td>188</td>\n",
       "      <td>87</td>\n",
       "      <td>Slovenia</td>\n",
       "      <td>Atlético Madrid</td>\n",
       "      <td>91</td>\n",
       "      <td>93</td>\n",
       "      <td>77500000</td>\n",
       "      <td>125000</td>\n",
       "      <td>GK</td>\n",
       "      <td>...</td>\n",
       "      <td>NaN</td>\n",
       "      <td>NaN</td>\n",
       "      <td>NaN</td>\n",
       "      <td>NaN</td>\n",
       "      <td>NaN</td>\n",
       "      <td>NaN</td>\n",
       "      <td>NaN</td>\n",
       "      <td>NaN</td>\n",
       "      <td>NaN</td>\n",
       "      <td>20</td>\n",
       "    </tr>\n",
       "    <tr>\n",
       "      <th>183277</th>\n",
       "      <td>28</td>\n",
       "      <td>175</td>\n",
       "      <td>74</td>\n",
       "      <td>Belgium</td>\n",
       "      <td>Real Madrid</td>\n",
       "      <td>91</td>\n",
       "      <td>91</td>\n",
       "      <td>90000000</td>\n",
       "      <td>470000</td>\n",
       "      <td>LW, CF</td>\n",
       "      <td>...</td>\n",
       "      <td>63+3</td>\n",
       "      <td>63+3</td>\n",
       "      <td>63+3</td>\n",
       "      <td>66+3</td>\n",
       "      <td>61+3</td>\n",
       "      <td>49+3</td>\n",
       "      <td>49+3</td>\n",
       "      <td>49+3</td>\n",
       "      <td>61+3</td>\n",
       "      <td>20</td>\n",
       "    </tr>\n",
       "  </tbody>\n",
       "</table>\n",
       "<p>5 rows × 87 columns</p>\n",
       "</div>"
      ],
      "text/plain": [
       "           age  height_cm  weight_kg nationality                 club  \\\n",
       "sofifa_id                                                               \n",
       "158023      32        170         72   Argentina         FC Barcelona   \n",
       "20801       34        187         83    Portugal             Juventus   \n",
       "190871      27        175         68      Brazil  Paris Saint-Germain   \n",
       "200389      26        188         87    Slovenia      Atlético Madrid   \n",
       "183277      28        175         74     Belgium          Real Madrid   \n",
       "\n",
       "           overall  potential  value_eur  wage_eur player_positions  ...  \\\n",
       "sofifa_id                                                            ...   \n",
       "158023          94         94   95500000    565000       RW, CF, ST  ...   \n",
       "20801           93         93   58500000    405000           ST, LW  ...   \n",
       "190871          92         92  105500000    290000          LW, CAM  ...   \n",
       "200389          91         93   77500000    125000               GK  ...   \n",
       "183277          91         91   90000000    470000           LW, CF  ...   \n",
       "\n",
       "            ldm   cdm   rdm   rwb    lb   lcb    cb   rcb    rb  year  \n",
       "sofifa_id                                                              \n",
       "158023     66+2  66+2  66+2  68+2  63+2  52+2  52+2  52+2  63+2    20  \n",
       "20801      61+3  61+3  61+3  65+3  61+3  53+3  53+3  53+3  61+3    20  \n",
       "190871     61+3  61+3  61+3  66+3  61+3  46+3  46+3  46+3  61+3    20  \n",
       "200389      NaN   NaN   NaN   NaN   NaN   NaN   NaN   NaN   NaN    20  \n",
       "183277     63+3  63+3  63+3  66+3  61+3  49+3  49+3  49+3  61+3    20  \n",
       "\n",
       "[5 rows x 87 columns]"
      ]
     },
     "execution_count": 7,
     "metadata": {},
     "output_type": "execute_result"
    }
   ],
   "source": [
    "f20.head()"
   ]
  },
  {
   "cell_type": "markdown",
   "metadata": {},
   "source": [
    "**columna club**"
   ]
  },
  {
   "cell_type": "markdown",
   "metadata": {},
   "source": [
    "voy a clasificar los clubes, saco los datos de aqui : https://www.clubworldranking.com/espanol/clubes/top-250-de-todos-los-tiempos"
   ]
  },
  {
   "cell_type": "code",
   "execution_count": 8,
   "metadata": {},
   "outputs": [],
   "source": [
    "e1 = ['FC Barcelona','Real Madrid','FC Bayern München','Atlético Madrid','Juventus',\n",
    "      'Manchester City','Chelsea','Sevilla FC','Liverpool','Manchester United',\n",
    "      'Grêmio','Arsenal','Valencia CF','Paris Saint-Germain','Borussia Dortmund',\n",
    "      'Napoli','Tottenham Hotspur','SL Benfica','River Plate','Boca Juniors','FC Porto',\n",
    "      'Jeonbuk Hyundai Motors','Athletic Club de Bilbao','Palmeiras','Santos',\n",
    "      'Atlético Mineiro','Shakhtar Donetsk','Al Hilal','Roma','São Paulo','Cruzeiro',\n",
    "      'Villarreal CF','Bayer 04 Leverkusen','FC Seoul','Lazio','Inter','Ulsan Hyundai FC',\n",
    "      'FC Schalke 04','Atlético Paranaense','Olympique Lyonnais','Internacional',\n",
    "      'Zenit St. Petersburg','Tigres U.A.N.L.','Monterrey','Suwon Samsung Bluewings',\n",
    "      'Ajax','Fluminense','Al Ahli','Everton','Milan']\n",
    "\n",
    "e2 =['Real Sociedad','Sporting CP','Club Atlético Lanús',\n",
    "      'Borussia Mönchengladbach', 'VfL Wolfsburg','Guangzhou Evergrande Taobao FC',\n",
    "      'San Lorenzo de Almagro','Dinamo Moscow','Pohang Steelers',\n",
    "      'América FC (Minas Gerais)','Vélez Sarsfield','Racing Club','RCD Espanyol',\n",
    "      'Independiente','Fiorentina','Olympiacos CFP','PFC CSKA Moscow',\n",
    "      'Santos Laguna','Atlético Nacional','FC Basel 1893','Olympique de Marseille',\n",
    "      'Botafogo','Eintracht Frankfurt','Estudiantes de La Plata','Getafe CF','Al Nassr',\n",
    "      'PSV','FC Red Bull Salzburg','Al Ittihad','RC Celta','Real Betis','Kashima Antlers',\n",
    "      'Levante UD','Atalanta','Celtic','FC Krasnodar','Cruz Azul','Jeju United FC',\n",
    "      'LOSC Lille','Fenerbahçe SK','Lokomotiv Moscow','Leicester City',\n",
    "      'Udinese','AS Monaco','Pachuca','Godoy Cruz','AS Saint-Étienne','RSC Anderlecht',\n",
    "      'FC Girondins de Bordeaux','Swansea City']\n",
    "\n",
    "e3 = ['TSG 1899 Hoffenheim',\"Newell's Old Boys\",'Rosario Central','Independiente Santa Fe',\n",
    "      'Stade Rennais FC','PAOK','Málaga CF','AZ Alkmaar','Club León','Bahia',\n",
    "      'Viktoria Plzeň','Junior FC','Panathinaikos FC','Shanghai SIPG FC','Galatasaray SK',\n",
    "      'Spartak Moscow','Al Shabab','Beşiktaş JK','Newcastle United',\n",
    "      '1. FSV Mainz 05','KRC Genk','Coritiba','SV Werder Bremen',\n",
    "      'Feyenoord','Standard de Liège','Sampdoria','Bologna',\n",
    "      'OGC Nice','Torino','SK Rapid Wien','SC Braga','Rubin Kazan','Vitória Guimarães',\n",
    "      'Southampton','West Ham United','Argentinos Juniors','Shandong Luneng TaiShan FC',\n",
    "      'RB Leipzig','Gimnasia y Esgrima La Plata','Urawa Red Diamonds','Stoke City',\n",
    "      'Yokohama F. Marinos','BSC Young Boys','Hertha BSC','VfB Stuttgart',\n",
    "      'Trabzonspor','Genoa','Catania','SD Eibar','Bari']\n",
    "\n",
    "e4 = ['Guadalajara','Club Atlético Tigre','Deportes Tolima','SC Freiburg','Montpellier HSC',\n",
    "      'Seongnam FC','Club Atlético Colón','Deportivo Toluca',\n",
    "      'Kashiwa Reysol','Querétaro','Jeonnam Dragons','Incheon United FC',\n",
    "      'Beijing Sinobo Guoan FC','Sanfrecce Hiroshima','Club Tijuana','Club Atlético Huracán',\n",
    "      'Club Atlas','Club Atlético Banfield','Sport Club do Recife','Granada CF','Crystal Palace',\n",
    "      'Millonarios FC','Daegu FC','West Bromwich Albion','Malmö FF','Rosenborg BK',\n",
    "      'Cagliari','Clube Sport Marítimo','Atlético Tucumán','Cerezo Osaka',\n",
    "      'Rayo Vallecano','Jiangsu Suning FC','Vitesse','Hamburger SV','FC Twente',\n",
    "      'Gyeongnam FC','FC Midtjylland','Seattle Sounders FC','Ponte Preta','Molde FK',\n",
    "      'Puebla FC','Sangju Sangmu FC','Chievo Verona','FC Utrecht','Nagoya Grampus',\n",
    "      'Sassuolo','Toulouse Football Club','Parma','Club Brugge KV','Middlesbrough']\n",
    "\n",
    "e5 = ['Padova','Brescia','LA Galaxy','Fulham','Bristol City','Rangers FC','Aston Villa',\n",
    "      'Boavista FC','Racing Club de Lens','Valenciennes FC','Walsall','Nottingham Forest',\n",
    "      'Deportivo de La Coruña','Palermo','Sheffield United','St. Mirren','Blackpool',\n",
    "      'Bristol Rovers','Scunthorpe United','Burnley','Bury','Lincoln City',\n",
    "      'Doncaster Rovers','Sheffield Wednesday','Cardiff City','Macclesfield Town',\n",
    "      'Blackburn Rovers','Carlisle United','Motherwell','Foggia','Pescara','Willem II',\n",
    "      'AEK Athens','Frosinone','Fortuna Düsseldorf','Lecce','CD Leganés','Internacional',\n",
    "      'New York Red Bulls','TSV 1860 München','Bolton Wanderers','Queens Park Rangers',\n",
    "      'FC Dallas','Real Salt Lake','Leeds United','Southend United','Waterford FC',\n",
    "      'Real Valladolid CF','CA Osasuna','FC Metz']\n",
    "\n",
    "e6 = ['Stevenage','Colchester United','Helsingborgs IF','Notts County','SPAL',\n",
    "      'Leyton Orient','Bradford City','Grimsby Town','Colorado Rapids',\n",
    "      'Finland','Stade de Reims','FC Nantes','Wycombe Wanderers','Oldham Athletic',\n",
    "      'Yeovil Town','Derby County','Rotherham United','New York City FC',\n",
    "      'Stade Malherbe Caen','Empoli','Moreirense FC','FC Paços de Ferreira','SV Grödig',\n",
    "      'Bournemouth','Livorno','Varese','Cheltenham Town','NEC Nijmegen','Wigan Athletic',\n",
    "      'CD Aves','Vitória de Setúbal','FC Penafiel','Czech Republic','Sparta Praha',\n",
    "      'Portimonense SC','Hull City','Deportivo Alavés','1. FC Kaiserslautern',\n",
    "      'SK Sturm Graz','SC Fortuna Köln','Karlsruher SC','Sunderland','Reading',\n",
    "      'AJ Auxerre','Los Angeles FC','1. FC Köln','RCD Mallorca',\n",
    "      'Brøndby IF','Hellas Verona','AS Nancy Lorraine']\n",
    "\n",
    "e7 = ['AD Alcorcón','UD Las Palmas','Elche CF','Real Oviedo','Newcastle Jets',\n",
    "      'Bilbao Athletic','CD Lugo','Gimnàstic de Tarragona','Alanyaspor',\n",
    "      'Cádiz CF','Girona FC','Córdoba CF','Orlando Pirates','Lorca FC','Plymouth Argyle',\n",
    "      'CD Mirandés','Real Sporting de Gijón','UE Llagostera','SD Ponferradina',\n",
    "      'Cork City','Exeter City','CE Sabadell FC','Portsmouth','CF Rayo Majadahonda',\n",
    "      'Racing Santander','UCAM Murcia CF','Spezia','Colo-Colo','Crotone',\n",
    "      'Atlanta United','Benevento','Oxford United','SD Huesca','UD Almería',\n",
    "      'Real Zaragoza','Albacete BP','CD Tenerife','Cultural Leonesa',\n",
    "      'Extremadura UD','FC Helsingør','FC Barcelona B','Fortuna Sittard','De Graafschap',\n",
    "      'Sevilla Atlético','CF Reus Deportiu','CD Numancia','AC Ajaccio','Cesena',\n",
    "      'AFC Wimbledon','Os Belenenses','Coventry City','CF Fuenlabrada']\n",
    "\n",
    "e8 = ['Rochdale','Morecambe','Newport County','Gil Vicente FC','Portugal',\n",
    "      'ESTAC Troyes','Estoril Praia','Le Havre AC','Aberdeen','AIK','Antalyaspor',\n",
    "      'NAC Breda','AC Arles Avignon','FC Lorient','Ascoli','1. FC Union Berlin',\n",
    "      'Charlton Athletic','Medipol Başakşehir FK','Grasshopper Club Zürich',\n",
    "      'Cambridge United','GFC Ajaccio','Sparta Rotterdam','Melbourne City FC',\n",
    "      'Brighton & Hove Albion','Ipswich Town','Orlando City SC','Montreal Impact',\n",
    "      'Hamilton Academical FC','Wolverhampton Wanderers','Norwich City',\n",
    "      'Derry City','Finn Harps','Birmingham City','Swindon Town','Port Vale',\n",
    "      'Central Coast Mariners','Brentford','Forest Green Rovers','Luton Town',\n",
    "      'Peterborough United','Tranmere Rovers','Burton Albion','Northampton Town',\n",
    "      'Kilmarnock','Millwall','Gillingham','Crawley Town','Mansfield Town','Chesterfield',\n",
    "      'Hartlepool United','Bayern München II',]\n",
    "\n",
    "e9 = ['Club Atlético Sarmiento','Club Atlético Aldosivi',\n",
    "       'Associação Académica de Coimbra','Ternana','CD Feirense','FC Anzhi Makhachkala',\n",
    "       'U.N.A.M.','Arsenal de Sarandí','Dijon FCO','Avellino','Brisbane Roar',\n",
    "       'Stade Brestois 29','FC St. Pauli','SV Werder Bremen II','Dinamo Zagreb',\n",
    "       'Dynamo Kyiv','Royal Antwerp FC','FK Haugesund','Viking FK','Melbourne Victory','Limerick FC',\n",
    "       'Houston Dynamo','Chivas USA','Toronto FC','Ross County FC','Vålerenga Fotball',\n",
    "       'Royal Excel Mouscron','KAA Gent','Vicenza','Atiker Konyaspor','FC Erzgebirge Aue',\n",
    "       'KSV Cercle Brugge','FC Vestsjælland','IFK Göteborg','Sweden','Aalborg BK',\n",
    "       'Perugia','Clermont Foot 63','Virtus Entella','Wolfsberger AC','BK Häcken',\n",
    "       'DC United','FSV Frankfurt','Silkeborg IF','Tromsø IL','HJK Helsinki','FC Zürich',\n",
    "       'SV Mattersburg','Red Star FC','Ranheim Fotball','Dinamo Bucureşti']\n",
    "\n",
    "e10 = ['Tigres FC','SC Cambuur','AS Béziers','Austria','Modena','Sandefjord Fotball','Najran SC',\n",
    "       'Switzerland','Dundee United','Hallescher FC','Shonan Bellmare','Wexford Youths',\n",
    "       'Al Hazem','Åtvidabergs FF','Kayseri Erciyesspor','Itagüí Leones FC',\n",
    "       'Stade Lavallois Mayenne FC','Dagenham and Redbridge','Barnet','Ruch Chorzów',\n",
    "       'Daejeon Citizen','Busan IPark','Trelleborgs FF','GIF Sundsvall','York City',\n",
    "       'US Orléans Loiret Football','Paraná','Ceará Sporting Club','Vitória',\n",
    "       'Atlético Clube Goianiense','Avaí FC','Figueirense','Santa Cruz','Joinville',\n",
    "       'Criciúma','Goiás','Halmstads BK','Galway United','Guizhou Hengfeng FC','Belgium',\n",
    "       'FC Hansa Rostock','FC Vaduz','Como','Cosenza','KVC Westerlo','Netherlands',\n",
    "       'Western Sydney Wanderers','Adanaspor','BB Erzurumspor','Atlético de Rafaela',\n",
    "       'SK Slavia Praha','Le Mans FC']\n",
    "\n",
    "e11 = ['Independiente Medellín','Unión Española','Defensa y Justicia','Belgrano de Córdoba',\n",
    "       'Chapecoense','Hungary','Rio Ave FC','FC Augsburg','Gamba Osaka','Hannover 96',\n",
    "       'Monarcas Morelia','Deportivo Cali','Club Necaxa','FC Tokyo','Universidad de Chile',\n",
    "       'Santiago Wanderers','Colombia','En Avant de Guingamp','Tiburones Rojos de Veracruz',\n",
    "       'Watford','Bari','Servette FC','Central Córdoba','FC Juárez']\n",
    "\n",
    "e12 = ['Hungary','CD Cobresal','Partick Thistle FC','FC Rostov','Kawasaki Frontale',\n",
    "       'Heart of Midlothian','Évian Thonon Gaillard FC','Latina','IK Start','SV Sandhausen',\n",
    "       'Oud-Heverlee Leuven','KV Oostende','Aarhus GF','Perth Glory','PEC Zwolle',\n",
    "       'Mjällby AIF','IF Elfsborg','FC Nordsjælland','Crewe Alexandra','Korona Kielce',\n",
    "       'Preston North End','SpVgg Greuther Fürth','Nîmes Olympique','Columbus Crew SC',\n",
    "       'LASK Linz','FC Arouca','Akhisar Belediyespor','Çaykur Rizespor','Shamrock Rovers',\n",
    "       'Heracles Almelo','Northern Ireland','Sint-Truidense VV','Sporting de Charleroi',\n",
    "       'Kristiansund BK','Stabæk Fotball','Randers FC','Wisła Kraków','Shrewsbury',\n",
    "       'Bohemian FC','Huddersfield Town','Neuchâtel Xamax','SK Brann','CD Tondela',\n",
    "       'FC Luzern','Sligo Rovers','União da Madeira','Djurgårdens IF','Kasimpaşa SK',\n",
    "       'Jönköpings Södra IF','Hammarby IF','Audax Italiano','Canada','IFK Norrköping',\n",
    "       'FC København','Paraguay','Go Ahead Eagles','Excelsior','Fleetwood Town',\n",
    "       'FC Groningen','FC Emmen','Hokkaido Consadole Sapporo','Júbilo Iwata',\n",
    "       'DSC Arminia Bielefeld','Esbjerg fB','Odds BK','Strømsgodset IF',\n",
    "       'Sarpsborg 08 FF','VfL Bochum 1848','FC Thun','FC St. Gallen','RC Strasbourg Alsace','1. FC Nürnberg',\n",
    "       'FC Admira Wacker Mödling','Uruguay','FC Sion','Sporting Lokeren',\n",
    "       'St. Johnstone FC','Dundee FC','Sagan Tosu','Angers SCO','FK Bodø/Glimt',\n",
    "       'Lillestrøm SK','Sandnes Ulf','IF Brommapojkarna','Falkenbergs FF','Hobro IK',\n",
    "       'Chicago Fire','San Jose Earthquakes','Sporting Kansas City','Milton Keynes Dons',\n",
    "       'Sydney FC','Terek Grozny','La Berrichonne de Châteauroux','Venezia FC',\n",
    "       'Amiens SC','Australia','FK Austria Wien','SønderjyskE','FC Lugano',\n",
    "       'Philadelphia Union','FC Lausanne-Sport','Sivasspor','SC Paderborn 07',\n",
    "       'SV Darmstadt 98','Arka Gdynia','MSV Duisburg','VfL Sportfreunde Lotte',\n",
    "       'KAS Eupen','SC Wiener Neustadt','Leones Negros de la UdeG','SpVgg Unterhaching',\n",
    "       'KV Mechelen','Mjøndalen IF','Trapani','Pogoń Szczecin','Eintracht Braunschweig',\n",
    "       'Piast Gliwice','Podbeskidzie Bielsko-Biała','Legia Warszawa','FC Ufa',\n",
    "       'Fortaleza CEIF','FC Sochaux-Montbéliard','FC Würzburger Kickers','Tours FC',\n",
    "       'New England Revolution','Deportivo San Marcos de Arica','Jaguares de Chiapas',\n",
    "       'Chamois Niortais Football Club','Gaziantepspor','Livingston FC','Drogheda United',\n",
    "       'Holstein Kiel','FSV Zwickau','VfR Aalen','Hibernian','FC Ingolstadt 04',\n",
    "       'Roda JC Kerkrade','Lierse SK','Novara','Turkey','Eskişehirspor','Göztepe SK',\n",
    "       'Osmanlıspor','Mersin İdman Yurdu','Gençlerbirliği SK','Adelaide United',\n",
    "       'Kardemir Karabükspor','Kayserispor','Lyngby BK','FC Rot-Weiß Erfurt',\n",
    "       'CD Nacional',\"CD O'Higgins\",'Santa Clara','Al Faisaly','Gangwon FC','GwangJu FC',\n",
    "       'Korea Republic','SC Heerenveen','US Salernitana 1919','FC Pro Vercelli 1892',\n",
    "       'Football Bourg En Bresse Peronnas 01','SV Zulte-Waregem','KV Kortrijk','Al Raed',\n",
    "       'US Cremonese','SKN St. Pölten','1. FC Magdeburg','Carpi','SS Virtus Lanciano',\n",
    "       'Portland Timbers','Accrington Stanley','AC Horsens','Odense Boldklub',\n",
    "       'Górnik Zabrze','Al Taawoun','Boyacá Chicó FC','Patriotas Boyacá FC',\n",
    "       'Dorados de Sinaloa','La Equidad','Lobos BUAP','Gefle IF','Rionegro Águilas',\n",
    "       'Egypt','Vegalta Sendai','Ventforet Kofu','Bray Wanderers','Dundalk',\n",
    "       'CD Universidad de Concepción','Kalmar FF','Amkar Perm','FC Wacker Innsbruck',\n",
    "       'Bulgaria','FC Orenburg','Al Fayha','Jagiellonia Białystok',\n",
    "       'Universidad Católica','Club Atlético Talleres','Deportivo Pasto',\n",
    "       'Cúcuta Deportivo','Quilmes Atlético Club','Crucero del Norte','Envigado FC',\n",
    "       'Club Atlético Temperley','Hebei China Fortune FC','Unión de Santa Fe',\n",
    "       'San Martín de San Juan','Club Olimpo','Once Caldas','Nueva Chicago',\n",
    "       'AC Barnechea','Uniautónoma FC','Patronato','Unión La Calera','América de Cali',\n",
    "       'Deportes Iquique','Peru','CD Cobreloa','Chacarita Juniors','Balıkesirspor',\n",
    "       'Yeni Malatyaspor','MKE Ankaragücü','SV Ried','Bursaspor','Shimizu S-Pulse',\n",
    "       'CD Huachipato','Suwon FC','Mordovia Saransk','Torpedo Moscow','Arsenal Tula',\n",
    "       'Kuban Krasnodar','FC Tom Tomsk','FC Ural Yekaterinburg','FC Tosno','Romania',\n",
    "       'Śląsk Wrocław','Lechia Gdańsk','Sandecja Nowy Sącz','GKS Bełchatów',\n",
    "       'Górnik Łęczna','Lech Poznań','ADO Den Haag',\"St. Patrick's Athletic\",\n",
    "       'Vissel Kobe','Paris FC','SCR Altach','Henan Jianye FC','IK Sirius',\n",
    "       'Minnesota United FC','Club América','Miedź Legnica','Bolivia','Venezuela',\n",
    "       'Al Qadisiyah','Cracovia','Bruk-Bet Termalica Nieciecza','Wisła Płock',\n",
    "       'Barnsley',' SSV Jahn Regensburg',\"Côte d'Ivoire\",'FC Dordrecht','Sogndal Fotball',\n",
    "       'Ecuador','Athlone Town','Chile','Pisa','China PR','Beijing Renhe FC',\n",
    "       'CD Antofagasta','San Martin de Tucumán','Poland','San Luis de Quillota',\n",
    "       'SV Meppen','Örebro SK','Curicó Unido','Kaizer Chiefs','Al Fateh','CD Palestino',\n",
    "       'CD Everton de Viña del Mar','Club Deportes Temuco','Krylya Sovetov Samara',\n",
    "       'Iceland','SKA Khabarovsk','US Quevilly Rouen Métropole','Waasland-Beveren',\n",
    "       'Zagłębie Lubin','Cittadella','Changchun Yatai FC','Al Khaleej','Slovenia',\n",
    "       'Vendsyssel FF','Hajer','Sporting Club de Bastia','New Zealand','Italy',\n",
    "       'Vancouver Whitecaps FC','AFC Eskilstuna','VVV-Venlo','Wales','Alianza Petrolera',\n",
    "       'Al Orobah','Al Wehda','Brazil','SV Wehen Wiesbaden','Norway','Omiya Ardija',\n",
    "       'TSV Hartberg','SG Dynamo Dresden','Wellington Phoenix','Ettifaq FC',\n",
    "       'Inverness Caledonian Thistle','Tianjin TEDA FC','Grenoble Foot 38',\n",
    "       '1. FC Heidenheim 1846','Chemnitzer FC','FC Energie Cottbus','Cameroon',\n",
    "       'Greece','Avispa Fukuoka','Albirex Niigata','India','Zagłębie Sosnowiec',\n",
    "       'Atlético Bucaramanga','Tianjin Quanjian FC','SG Sonnenhof Großaspach',\n",
    "       'Guangzhou R&F FC','Atlético Huila','VfL Osnabrück','Cortuluá',\n",
    "       'Jaguares de Córdoba','Östersunds FK','KFC Uerdingen 05','Dalkurd FF',\n",
    "       'South Africa','Chongqing Dangdai Lifan FC SWM Team','Al Shoulla',\n",
    "       'Shanghai Greenland Shenhua FC','Russia','UCD AFC','Dalian YiFang FC',\n",
    "       'GD Chaves','SC Preußen Münster','Ohod Club','Aalesunds FK','V-Varen Nagasaki',\n",
    "       'FC Carl Zeiss Jena','Argentina','Deportivo Ñublense','Al Batin','Wuhan Zall',\n",
    "       'Shenzhen FC','CSA - AL','Mexico','Atlético de San Luis','Western United FC','Fortaleza',\n",
    "       'Denizlispor','Al Ain FC','Gazişehir Gaziantep F.K.','Famalicão','Unión Magdalena',\n",
    "       'FCSB (Steaua)','Universitatea Craiova','Coquimbo Unido','CFR Cluj','FC Cincinnati',\n",
    "       'FC Viitorul','Pordenone','Damac FC','Astra Giurgiu','Castellammare di Stabia',\n",
    "       'Abha Club','FC Botoşani','Sepsi OSK','Salford City','Gaz Metan Mediaş','WSG Tirol',\n",
    "       'Matsumoto Yamaga','FC Hermannstadt','LKS Lodz','Politehnica Iaşi',\n",
    "       'SV Waldhof Mannheim','RKC Waalwijk','Oita Trinita','Rodez Aveyron Football',\n",
    "       'FC Chambly Oise','FC Voluntari','Al Adalah','Viktoria Köln','Raków Częstochowa',\n",
    "       'Chindia Târgovişte','Academica Clinceni',]"
   ]
  },
  {
   "cell_type": "markdown",
   "metadata": {},
   "source": [
    "Doy valores a cada lista"
   ]
  },
  {
   "cell_type": "code",
   "execution_count": 9,
   "metadata": {},
   "outputs": [],
   "source": [
    "eq1 = dict.fromkeys(e1, 1)\n",
    "eq2 = dict.fromkeys(e2, 2)\n",
    "eq3 = dict.fromkeys(e3, 3)\n",
    "eq4 = dict.fromkeys(e4, 4)\n",
    "eq5 = dict.fromkeys(e5, 5)\n",
    "eq6 = dict.fromkeys(e6, 6)\n",
    "eq7 = dict.fromkeys(e7, 7)\n",
    "eq8 = dict.fromkeys(e8, 8)\n",
    "eq9 = dict.fromkeys(e9, 9)\n",
    "eq10 = dict.fromkeys(e10, 10)\n",
    "eq11 = dict.fromkeys(e11, 11)\n",
    "eq12 = dict.fromkeys(e12, 12)"
   ]
  },
  {
   "cell_type": "markdown",
   "metadata": {},
   "source": [
    "uno todas las listas en un diccionario"
   ]
  },
  {
   "cell_type": "code",
   "execution_count": 10,
   "metadata": {},
   "outputs": [],
   "source": [
    "dic = {**eq1, **eq2, **eq3, **eq4, **eq5, **eq6, **eq7, **eq8, **eq9, **eq10, **eq11, **eq12}"
   ]
  },
  {
   "cell_type": "code",
   "execution_count": 11,
   "metadata": {},
   "outputs": [],
   "source": [
    "def valor(row):\n",
    "    return dic[row]"
   ]
  },
  {
   "cell_type": "code",
   "execution_count": 12,
   "metadata": {
    "scrolled": true
   },
   "outputs": [],
   "source": [
    "f20['club'] = f20['club'].apply(lambda x: valor(x))"
   ]
  },
  {
   "cell_type": "code",
   "execution_count": 13,
   "metadata": {},
   "outputs": [
    {
     "data": {
      "text/plain": [
       "array([ 1,  2,  3,  5,  8, 12,  4,  6,  7, 11,  9, 10])"
      ]
     },
     "execution_count": 13,
     "metadata": {},
     "output_type": "execute_result"
    }
   ],
   "source": [
    "f20['club'].unique()"
   ]
  },
  {
   "cell_type": "markdown",
   "metadata": {},
   "source": [
    "**Columna 'nacionality'**"
   ]
  },
  {
   "cell_type": "code",
   "execution_count": 14,
   "metadata": {},
   "outputs": [
    {
     "data": {
      "text/plain": [
       "162"
      ]
     },
     "execution_count": 14,
     "metadata": {},
     "output_type": "execute_result"
    }
   ],
   "source": [
    "a= len(f20.nationality.unique())\n",
    "a"
   ]
  },
  {
   "cell_type": "markdown",
   "metadata": {},
   "source": [
    "voy a clasificarlas, saco los datos de aqui: https://es.fifa.com/fifa-world-ranking/ranking-table/men/"
   ]
  },
  {
   "cell_type": "code",
   "execution_count": 15,
   "metadata": {},
   "outputs": [],
   "source": [
    "p1 = ['Belgium','France','Brazil','England','Uruguay','Croatia','Portugal','Spain','Argentina','Colombia',\n",
    "      'Mexico','Sweden','Italy','Netherlands', 'Germany','Denmark','Switzerland','Chile']\n",
    "\n",
    "p2 = ['Poland','Senegal','Peru','United','Czech Republic', 'United States','Wales','Ukraine','Venezuela','Austria',\n",
    "      'Tunisia','Japan','Turkey','Nigeria','Slovakia','Scotland']\n",
    "\n",
    "p3 = ['Iran','Republic of Ireland','Northern Ireland','Romania','Iceland','Korea Republic','Paraguay',\n",
    "      'Australia','Morocco','Algeria','Norway','Costa Rica','Ghana','Jamaica','Bosnia Herzegovina']\n",
    "\n",
    "p4 = ['Egypt','Hungary','Cameroon','Greece','Qatar','Mali','DR Congo','Finland','Bulgaria','Burkina Faso',\n",
    "      'Ivory Coast','Honduras','Ecuador','Montenegro','Slovenia','Albania','Saudi Arabia','FYR Macedonia',\n",
    "      'El Salvador']\n",
    "\n",
    "p5 = ['Iraq','United Arab Emirates','South Africa','Canada','Guinea','Bolivia','China PR','Uganda',\n",
    "      'Cape Verde','Syria','Curacao','Panama','Oman','Gabon','Benin','Uzbekistan','Haiti','Belarus',\n",
    "      'Zambia','Congo','Georgia','Lebanon','Madagascar','Israel']\n",
    "\n",
    "p6 = ['Vietnam','Jordan','Luxembourg','Bahrain','Mauritius','Libya','Armenia','Palestine','Estonia',\n",
    "      'Trinidad & Tobago','Mozambique','Kenya','India','Central African Rep.','Faroe Islands', 'Zimbabwe',\n",
    "      'Niger','Thailand','Azerbaijan','Kosovo','Korea DPR','Namibia','Kazakhstan']\n",
    "\n",
    "p7 = ['Sierra Leone','Barbados','Philippines','Liberia','Lithuania','Togo', 'Angola', 'Serbia', 'Russia',\n",
    "      'Guatemala', 'Grenada','Puerto Rico',  'Suriname', 'Comoros', 'Liechtenstein','St Kitts Nevis','Ethiopia',\n",
    "      'Antigua & Barbuda','Chinese Taipei','Gibraltar','New Zealand','Guinea Bissau',  'Cyprus', 'Gambia',\n",
    "      'Guyana','Moldova','Equatorial Guinea', 'Cambodia', 'Eritrea', 'Kuwait','Latvia','Burundi','Malta',\n",
    "      'Montserrat','Mauritania',  'Somalia','Guam','Cuba', 'Bermuda','Tajikistan','Nicaragua', 'Turkmenistan',\n",
    "      'Dominican Republic', 'New Caledonia','Aruba','Papua New Guinea','Chad','Kyrgyzstan','Tanzania',\n",
    "      'São Tomé & Príncipe','St Lucia', 'Indonesia','Rwanda','Sudan','Sri Lanka','Afghanistan','Belize',\n",
    "      'St Vincent Grenadine','Brunei Darussalam','San Marino','Swaziland','Hong Kong','South Sudan','Malawi','Macau',]"
   ]
  },
  {
   "cell_type": "markdown",
   "metadata": {},
   "source": [
    "asigno un valor a cada lista para convertirlas en diccionarios y relacionarlas entre si"
   ]
  },
  {
   "cell_type": "code",
   "execution_count": 16,
   "metadata": {},
   "outputs": [],
   "source": [
    "pais1 = dict.fromkeys(p1, 1)\n",
    "pais2 = dict.fromkeys(p2, 2)\n",
    "pais3 = dict.fromkeys(p3, 3)\n",
    "pais4 = dict.fromkeys(p4, 4)\n",
    "pais5 = dict.fromkeys(p5, 5)\n",
    "pais6 = dict.fromkeys(p6, 6)\n",
    "pais7 = dict.fromkeys(p7, 7)"
   ]
  },
  {
   "cell_type": "markdown",
   "metadata": {},
   "source": [
    "creo un diccionario con todas las listas"
   ]
  },
  {
   "cell_type": "code",
   "execution_count": 17,
   "metadata": {},
   "outputs": [],
   "source": [
    "dicc = {**pais1, **pais2, **pais3, **pais4, **pais5, **pais6, **pais7}"
   ]
  },
  {
   "cell_type": "markdown",
   "metadata": {},
   "source": [
    "aplico las values de cada pais en la columna 'nationality'"
   ]
  },
  {
   "cell_type": "code",
   "execution_count": 18,
   "metadata": {},
   "outputs": [],
   "source": [
    "def valor2(x, diction):\n",
    "    return diction[x]"
   ]
  },
  {
   "cell_type": "code",
   "execution_count": 19,
   "metadata": {},
   "outputs": [],
   "source": [
    "f20['nationality'] = f20['nationality'].apply(lambda x: valor2(x, dicc))"
   ]
  },
  {
   "cell_type": "code",
   "execution_count": 20,
   "metadata": {},
   "outputs": [
    {
     "data": {
      "text/plain": [
       "array([1, 4, 2, 5, 3, 7, 6])"
      ]
     },
     "execution_count": 20,
     "metadata": {},
     "output_type": "execute_result"
    }
   ],
   "source": [
    "f20.nationality.unique()"
   ]
  },
  {
   "cell_type": "markdown",
   "metadata": {},
   "source": [
    "**columna player_positions**"
   ]
  },
  {
   "cell_type": "code",
   "execution_count": 21,
   "metadata": {},
   "outputs": [
    {
     "data": {
      "text/plain": [
       "array(['RW, CF, ST', 'ST, LW', 'LW, CAM', 'GK', 'LW, CF', 'CAM, CM', 'CB',\n",
       "       'CM', 'RW, ST', 'ST, RW', 'ST', 'CDM, CM', 'CF, ST, LW', 'CAM, RW',\n",
       "       'CM, CDM', 'RW, LW', 'CAM, LM, ST', 'ST, LM', 'LW, LM', 'CB, LB',\n",
       "       'RW, CAM, CM', 'CDM', 'CF, LM', 'CF, ST', 'LB', 'CM, CAM, CDM',\n",
       "       'CF, LW, ST', 'LW', 'CB, CDM', 'RB, CM, CDM', 'CAM, CM, LW',\n",
       "       'CF, ST, CAM', 'LW, CM', 'CAM, RM, RW', 'CM, CAM', 'CM, LM, RM',\n",
       "       'LB, CB', 'RB', 'CAM, CF, ST', 'RW, LW, ST', 'LB, LM',\n",
       "       'RM, LM, CM', 'CAM, CM, RM', 'RM, LM', 'CAM, RM', 'CF, LW, CAM',\n",
       "       'CAM, LM, RM', 'LM, RM, LW', 'RM, LM, LW', 'CAM', 'CAM, CM, CF',\n",
       "       'LM', 'CDM, CB', 'RB, CB', 'RM, RW', 'LM, RW, LW', 'RM, CM',\n",
       "       'CAM, LW, ST', 'RW, RM', 'CM, CDM, CAM', 'CM, CAM, CF',\n",
       "       'LW, ST, LM', 'LM, ST', 'RM, RW, ST', 'LM, CAM, RM', 'LW, RW',\n",
       "       'CF, LM, LW', 'RM, CAM', 'CF, RM, LM', 'RW, LW, CAM',\n",
       "       'CDM, CM, CAM', 'CDM, CB, LB', 'ST, CAM, LW', 'ST, CF', 'RW, CAM',\n",
       "       'LW, LM, RW', 'RW, CAM, LW', 'RM, ST', 'CM, CDM, RM', 'RW, CF',\n",
       "       'RB, RM', 'CAM, LW', 'CF, CAM, CM', 'RB, RM, CM', 'LWB, LM, LB',\n",
       "       'ST, RW, LW', 'CB, LB, RB', 'RM, LM, CF', 'CAM, LM', 'LM, LWB',\n",
       "       'LM, RM', 'RM, RB', 'CM, CDM, LM', 'CM, LW', 'RWB, RM', 'RW',\n",
       "       'CB, RB', 'CM, LM, CDM', 'CAM, CM, LM', 'LW, RW, CAM', 'CM, LM',\n",
       "       'CAM, CM, RW', 'LM, LB, CM', 'CM, LB', 'CF, ST, RM', 'LB, LWB',\n",
       "       'RM, CAM, RW', 'RB, RW, LW', 'LW, LB', 'CAM, LM, LW', 'CF, LW',\n",
       "       'RM, LM, CAM', 'RB, RWB', 'LM, LW', 'RM, ST, LM', 'CM, RM',\n",
       "       'CF, RW, LW', 'CAM, CF', 'ST, LW, CAM', 'RM', 'RWB, RB, RM',\n",
       "       'LW, CAM, CM', 'LM, ST, RM', 'CM, RB, RM', 'LW, CF, ST', 'LM, CAM',\n",
       "       'RB, CDM, CM', 'RM, RW, CAM', 'CF', 'LM, RW', 'RM, RW, LM',\n",
       "       'ST, RM', 'CAM, LM, CM', 'CDM, CM, LM', 'RW, ST, LW', 'LB, RB',\n",
       "       'RB, LB', 'LW, CF, RW', 'LB, LM, LWB', 'RM, CAM, CM', 'LM, LW, RM',\n",
       "       'CDM, CM, CB', 'ST, RW, LM', 'RM, LM, ST', 'LM, CF', 'CDM, CB, CM',\n",
       "       'LWB, LB', 'RWB, RM, RB', 'ST, LM, LW', 'LM, LB', 'RWB',\n",
       "       'ST, RW, RM', 'ST, CAM', 'CAM, CDM', 'CAM, ST', 'CF, CM', 'CF, RW',\n",
       "       'CM, LW, RW', 'RM, CAM, LM', 'RB, RM, CB', 'LB, CDM',\n",
       "       'CAM, RM, CM', 'CM, CB', 'CB, RB, LB', 'LM, RM, CAM',\n",
       "       'CM, LM, CAM', 'CF, CM, LW', 'RW, ST, RM', 'CF, RW, RM',\n",
       "       'CAM, RM, LM', 'LM, LW, CM', 'ST, CF, CAM', 'LM, LW, ST',\n",
       "       'RM, RWB', 'CF, LW, RW', 'CDM, CM, RB', 'RB, RW', 'CM, CAM, RW',\n",
       "       'RM, ST, RW', 'CAM, RM, CF', 'CM, RM, CAM', 'LW, CAM, LM',\n",
       "       'RB, RWB, RM', 'RB, CM', 'CM, RB', 'CM, CAM, RM', 'LM, LWB, LW',\n",
       "       'LM, LW, CF', 'LB, LWB, LM', 'LM, RM, CM', 'RM, RWB, LWB',\n",
       "       'LM, LW, CAM', 'LW, CAM, RM', 'CAM, CM, CDM', 'CM, CAM, LM',\n",
       "       'RB, LB, RM', 'LB, CM', 'CAM, RW, LW', 'RM, LM, RW', 'CM, CDM, CF',\n",
       "       'CM, CDM, RB', 'LM, CAM, CM', 'ST, CAM, CF', 'RM, CM, RB',\n",
       "       'CM, RW, CAM', 'LW, RW, ST', 'CDM, RWB', 'CAM, RW, RM',\n",
       "       'CM, CB, CAM', 'LM, RM, RB', 'RM, CF, RW', 'LW, RM, LM',\n",
       "       'CM, RM, CDM', 'ST, CF, RW', 'LM, LB, LWB', 'LM, RM, ST',\n",
       "       'CAM, RW, CM', 'LW, LM, CF', 'RWB, RB', 'CDM, CAM, LM',\n",
       "       'RW, LW, RM', 'CAM, ST, CDM', 'LM, CM', 'CM, ST', 'LM, RB',\n",
       "       'LB, RM', 'RM, CM, LM', 'LW, RM', 'LW, ST, RW', 'CM, LWB, LM',\n",
       "       'CF, CAM, ST', 'RM, LW', 'LW, RW, LM', 'CF, CAM', 'RW, LM, RM',\n",
       "       'RW, RM, CAM', 'LB, LM, CAM', 'ST, RM, CAM', 'CM, CDM, RWB',\n",
       "       'LM, LW, LB', 'ST, CAM, LM', 'RW, CM, RM', 'LM, RW, CF',\n",
       "       'CF, RW, ST', 'CDM, CAM, CM', 'RM, CM, RW', 'LM, CF, RM',\n",
       "       'CAM, LM, RW', 'CAM, ST, LM', 'LB, LWB, RB', 'LWB, LB, LM',\n",
       "       'RB, CB, RM', 'RW, CF, LW', 'LWB, LB, RB', 'LM, CM, CAM',\n",
       "       'CAM, CDM, CM', 'LW, ST', 'RB, CDM', 'CAM, ST, RW', 'CM, CDM, CB',\n",
       "       'CB, CDM, RB', 'RM, CF, LM', 'LWB, RM', 'ST, RM, LM',\n",
       "       'CAM, LW, CM', 'LM, CF, CM', 'RW, RM, RB', 'RB, RM, RWB',\n",
       "       'ST, LM, CAM', 'LM, ST, CAM', 'ST, LW, RW', 'RM, LM, LB',\n",
       "       'CM, LWB', 'CB, CDM, LB', 'CAM, LW, RW', 'LM, CAM, ST', 'RW, RWB',\n",
       "       'RM, RWB, RB', 'LM, CAM, LWB', 'LW, RW, RM', 'RWB, RB, LWB',\n",
       "       'CAM, ST, RM', 'RW, RM, CF', 'RW, RM, LW', 'RW, CAM, ST',\n",
       "       'RB, RM, LM', 'CM, CDM, LB', 'CDM, LB, CM', 'LM, CM, LB',\n",
       "       'LB, RB, RM', 'LW, CM, CAM', 'LB, RB, CB', 'CAM, ST, LW',\n",
       "       'LWB, LB, CB', 'LWB, LM', 'LWB', 'CDM, CB, RB', 'CM, LM, LB',\n",
       "       'RW, LB', 'RB, RM, LB', 'RW, RM, ST', 'CM, CAM, ST', 'CAM, CF, RW',\n",
       "       'CAM, RM, RB', 'ST, LM, RM', 'ST, RM, LW', 'CDM, CM, RM',\n",
       "       'RM, RW, CM', 'ST, CM, RB', 'RM, RW, LW', 'CB, RB, RM',\n",
       "       'CAM, RM, ST', 'RB, CM, CB', 'RW, LW, CM', 'RM, RWB, CAM',\n",
       "       'RW, RM, CM', 'RM, RB, RWB', 'RB, LW, LB', 'LB, CB, LWB',\n",
       "       'ST, CAM, CM', 'LM, RWB', 'RB, LB, CDM', 'CB, LWB', 'CM, RWB, RM',\n",
       "       'RM, CF', 'LB, CB, LM', 'LWB, RWB', 'RB, LB, RWB', 'RW, LW, LM',\n",
       "       'LM, CM, LWB', 'LM, ST, LW', 'RM, CAM, ST', 'RW, CAM, RM',\n",
       "       'LW, CAM, RW', 'LW, RW, CM', 'CAM, ST, CF', 'LB, CAM, LM',\n",
       "       'LB, CB, CDM', 'LM, RM, LB', 'LM, RM, CF', 'LB, LW', 'LM, LB, LW',\n",
       "       'ST, CAM, RM', 'LW, ST, CAM', 'ST, CAM, RW', 'ST, LW, LM',\n",
       "       'CAM, LM, CF', 'CAM, CF, CM', 'LM, RW, CAM', 'LB, RM, LM',\n",
       "       'CF, CAM, LM', 'CAM, RW, CF', 'CB, LB, CDM', 'CB, CDM, CM',\n",
       "       'CB, CM, CDM', 'RM, LM, RWB', 'RW, RM, LM', 'ST, LM, RB',\n",
       "       'RB, RM, RW', 'CB, RWB, RB', 'RB, CB, ST', 'CDM, CM, LB',\n",
       "       'RW, ST, CF', 'ST, RWB', 'LB, LWB, CDM', 'RB, RWB, LB',\n",
       "       'RM, CF, CAM', 'RB, LB, CB', 'RM, LW, RW', 'CDM, LB',\n",
       "       'CDM, RB, RM', 'CDM, RB', 'LB, CM, LM', 'RM, ST, CAM',\n",
       "       'CM, CDM, LW', 'CDM, RM', 'RM, RB, LB', 'LM, LWB, LB', 'CM, RW',\n",
       "       'CM, RM, RB', 'CM, LM, RB', 'RM, CAM, CF', 'CAM, CM, ST',\n",
       "       'CM, CF, CAM', 'RM, RB, CM', 'LW, LM, LB', 'RWB, RB, LB',\n",
       "       'RM, LM, CDM', 'LB, LM, RM', 'CM, CF', 'RB, CB, RWB', 'LW, LM, ST',\n",
       "       'CAM, RB', 'ST, CF, LW', 'LM, LB, CAM', 'CF, CM, CAM',\n",
       "       'CB, CDM, CAM', 'LM, CAM, LW', 'RM, LM, RB', 'RWB, LWB', 'RW, CM',\n",
       "       'CB, CM, RB', 'LB, RB, LW', 'RB, CDM, LB', 'CM, RW, LW',\n",
       "       'RWB, RB, CB', 'CF, RW, CAM', 'RB, CB, LB', 'CAM, LW, CF',\n",
       "       'CB, RB, CAM', 'LM, LW, RW', 'LB, CB, RB', 'ST, RW, CF',\n",
       "       'CDM, LM, CM', 'ST, LM, CF', 'LW, LM, CAM', 'LW, RM, CM',\n",
       "       'RB, CM, RWB', 'ST, CF, LM', 'CDM, CAM', 'LM, CDM', 'LB, LM, CB',\n",
       "       'CAM, CF, RM', 'RM, CM, CAM', 'CAM, CF, LW', 'LM, CM, ST',\n",
       "       'LM, RM, RW', 'CB, CM', 'LW, LM, RM', 'CB, LB, LWB', 'RM, RB, LW',\n",
       "       'LB, LM, CM', 'LM, RM, LWB', 'RB, LM, RM', 'CF, LM, CAM',\n",
       "       'LB, LWB, CB', 'RB, CM, RM', 'CM, LB, CDM', 'CAM, CF, LM',\n",
       "       'LW, CAM, CF', 'CDM, RB, CB', 'LW, LB, RW', 'LM, CM, RW',\n",
       "       'LM, RB, RWB', 'ST, CM', 'RM, CM, RWB', 'LM, ST, LB', 'RB, CB, CM',\n",
       "       'RW, LW, CF', 'CDM, RB, CM', 'RM, LM, LWB', 'LM, RW, RM', 'RB, LM',\n",
       "       'CB, LB, LM', 'RB, LB, LWB', 'RB, RWB, CB', 'LB, CM, LW',\n",
       "       'CM, RB, CDM', 'RM, LW, LM', 'CAM, ST, CM', 'LB, CDM, CM',\n",
       "       'LWB, LM, RWB', 'CDM, LWB, CM', 'LM, LWB, CM', 'CAM, CDM, CB',\n",
       "       'RM, LB', 'CDM, RB, LB', 'ST, RM, RW', 'RB, LB, LM',\n",
       "       'LB, CDM, LWB', 'LB, LM, RB', 'CDM, RM, CM', 'RWB, CB',\n",
       "       'CF, CM, LB', 'CM, CAM, LB', 'CDM, LWB', 'RW, CAM, CF',\n",
       "       'RM, RWB, LM', 'ST, LW, RM', 'RB, RM, CDM', 'RB, CB, CDM',\n",
       "       'CF, RM, ST', 'CM, ST, CF', 'LM, CAM, CDM', 'LW, CM, LB',\n",
       "       'LB, LM, LW', 'CM, LM, ST', 'CF, RM', 'RB, LB, RW', 'LM, CM, LW',\n",
       "       'LW, RW, CF', 'CDM, LM', 'CM, CB, CDM', 'LB, RB, LM',\n",
       "       'RM, LW, CAM', 'CB, LB, CM', 'CM, LW, LWB', 'RM, RWB, ST',\n",
       "       'ST, RW, CAM', 'ST, RB, RM', 'LB, RW, CM', 'CF, CAM, RW',\n",
       "       'RM, RW, RB', 'RB, CDM, CB', 'RB, RWB, CDM', 'LM, LB, RM',\n",
       "       'LM, CF, ST', 'CF, ST, LM', 'LB, RB, LWB', 'RM, ST, RB',\n",
       "       'CDM, CAM, RM', 'RB, CDM, RM', 'ST, LW, CM', 'CB, RB, CDM',\n",
       "       'LWB, CM', 'ST, RWB, LM', 'RM, CM, ST', 'RB, CDM, RWB',\n",
       "       'CM, RM, LM', 'LM, CM, RM', 'LB, RB, CDM', 'RB, RM, ST',\n",
       "       'CF, LM, RM', 'CM, ST, LM', 'CM, RM, CF', 'CB, CM, LB',\n",
       "       'RB, LB, CM', 'LWB, CB, LM', 'CB, LM, LB', 'RM, RWB, CM',\n",
       "       'LM, RB, CB', 'RM, ST, RWB', 'CDM, RM, LM', 'RW, CM, CAM',\n",
       "       'CF, CAM, LW', 'RM, RB, LM', 'CF, ST, CM', 'LB, LWB, CM',\n",
       "       'CM, RW, LM', 'RB, RWB, RW', 'ST, CB, CAM', 'LM, CF, CAM',\n",
       "       'LM, LB, ST', 'RB, RW, RWB', 'RM, RB, RW', 'RWB, CB, CM',\n",
       "       'RWB, RM, LM', 'ST, CB', 'CM, LB, LM', 'LW, RB, LB', 'LB, RW, LW',\n",
       "       'RW, RB', 'LWB, ST, CF', 'RW, RM, RWB', 'CB, ST', 'RWB, LM',\n",
       "       'CM, LM, RW', 'RM, CF, CM', 'LM, LB, CDM', 'CB, LWB, LB',\n",
       "       'RM, RW, CF', 'RB, CDM, CAM', 'LW, RM, RW', 'CM, RWB',\n",
       "       'RW, RM, LB', 'CB, CF', 'RB, ST, RM', 'LM, LW, CDM', 'CB, CAM',\n",
       "       'RM, RB, CDM', 'LM, LW, LWB', 'CM, RWB, LWB', 'LWB, CB', 'RB, LW',\n",
       "       'CM, CDM, RW', 'RB, RWB, CM', 'CB, RWB', 'LB, CM, CDM',\n",
       "       'RM, RB, ST', 'LW, CM, RW', 'CB, RM', 'CDM, LB, LM', 'CM, CAM, RB',\n",
       "       'CAM, RM, CDM', 'RM, CAM, RWB', 'RW, LM', 'CB, LM, ST',\n",
       "       'CM, ST, RM', 'CM, CAM, LW', 'RB, ST, RW', 'LB, CM, RB', 'CAM, LB',\n",
       "       'RM, RB, CAM', 'RM, LWB, ST', 'ST, CB, RB', 'RB, CAM',\n",
       "       'CM, CB, RB', 'CM, CDM, ST', 'RM, RW, RWB', 'RM, CB, RB',\n",
       "       'RWB, RB, CDM', 'RW, CM, LB', 'RM, CF, RB', 'RM, CM, CF',\n",
       "       'LB, LM, CDM', 'CDM, CAM, RB', 'CM, LW, ST', 'RM, CB',\n",
       "       'CM, LB, RM', 'LB, CDM, LM', 'CDM, LB, RM', 'LM, CM, RB',\n",
       "       'LW, CM, RB', 'RM, LWB, LM', 'LWB, CAM, LM', 'CM, RB, LM',\n",
       "       'LWB, CB, LB', 'ST, CM, CAM', 'LWB, LW', 'RM, RWB, RW',\n",
       "       'RW, CM, ST', 'CAM, ST, RB', 'CDM, LB, RB', 'RWB, CM',\n",
       "       'LB, CB, RM', 'CF, RM, CM', 'RWB, LWB, CB', 'ST, RM, RWB',\n",
       "       'LM, ST, CM', 'CM, LM, CB', 'LWB, LW, ST', 'CM, CF, RB',\n",
       "       'ST, RW, RB', 'RW, LM, CAM', 'RW, RB, LB', 'RWB, CDM',\n",
       "       'LW, LWB, LB', 'RB, ST', 'ST, LW, CDM', 'LB, CDM, RB',\n",
       "       'CM, RWB, CDM', 'LM, CDM, LWB', 'RM, ST, CM'], dtype=object)"
      ]
     },
     "execution_count": 21,
     "metadata": {},
     "output_type": "execute_result"
    }
   ],
   "source": [
    "f20['player_positions'].unique()"
   ]
  },
  {
   "cell_type": "code",
   "execution_count": 22,
   "metadata": {},
   "outputs": [
    {
     "data": {
      "text/plain": [
       "sofifa_id\n",
       "158023    RW, CF, ST\n",
       "20801         ST, LW\n",
       "190871       LW, CAM\n",
       "200389            GK\n",
       "183277        LW, CF\n",
       "             ...    \n",
       "245006            CB\n",
       "250995            CB\n",
       "252332            CM\n",
       "251110            CM\n",
       "233449            CM\n",
       "Name: player_positions, Length: 18278, dtype: object"
      ]
     },
     "execution_count": 22,
     "metadata": {},
     "output_type": "execute_result"
    }
   ],
   "source": [
    "f20['player_positions']"
   ]
  },
  {
   "cell_type": "markdown",
   "metadata": {},
   "source": [
    "Dejo en la columna solo la primera posición del jugador, que es la que mas utiliza"
   ]
  },
  {
   "cell_type": "code",
   "execution_count": 23,
   "metadata": {},
   "outputs": [
    {
     "data": {
      "text/plain": [
       "sofifa_id\n",
       "158023    RW\n",
       "20801     ST\n",
       "190871    LW\n",
       "200389    GK\n",
       "183277    LW\n",
       "          ..\n",
       "245006    CB\n",
       "250995    CB\n",
       "252332    CM\n",
       "251110    CM\n",
       "233449    CM\n",
       "Name: player_positions, Length: 18278, dtype: object"
      ]
     },
     "execution_count": 23,
     "metadata": {},
     "output_type": "execute_result"
    }
   ],
   "source": [
    "f20['player_positions'] = f20['player_positions'].str.split(pat=',',expand=True)\n",
    "f20['player_positions']"
   ]
  },
  {
   "cell_type": "code",
   "execution_count": 24,
   "metadata": {},
   "outputs": [
    {
     "data": {
      "text/plain": [
       "array(['RW', 'ST', 'LW', 'GK', 'CAM', 'CB', 'CM', 'CDM', 'CF', 'LB', 'RB',\n",
       "       'RM', 'LM', 'LWB', 'RWB'], dtype=object)"
      ]
     },
     "execution_count": 24,
     "metadata": {},
     "output_type": "execute_result"
    }
   ],
   "source": [
    "f20['player_positions'].unique()"
   ]
  },
  {
   "cell_type": "markdown",
   "metadata": {},
   "source": [
    "Las agrupo, ya que hay posiciones muy parecidas y aplico los cambios a la columna"
   ]
  },
  {
   "cell_type": "code",
   "execution_count": 25,
   "metadata": {},
   "outputs": [],
   "source": [
    "def position (row):\n",
    "    groups = {\n",
    "        'CF' : 'MP',\n",
    "        'LW' : 'EI',\n",
    "        'RW' : 'ED',\n",
    "        'RM' : 'CD',\n",
    "        'LM' : 'CI',\n",
    "        'CDM' : 'CM',\n",
    "        'CAM' : 'CM',\n",
    "        'RB' : 'LD',\n",
    "        'RWB' : 'LD',\n",
    "        'LB' : 'LI',\n",
    "        'LWB' : 'LI',\n",
    "        'CB' : 'DF',\n",
    "        'ST' : 'ST',\n",
    "        'GK' : 'GK',\n",
    "        'CM' : 'CM',\n",
    "    }\n",
    "    return groups[row]"
   ]
  },
  {
   "cell_type": "code",
   "execution_count": 26,
   "metadata": {},
   "outputs": [],
   "source": [
    "f20['player_positions'] = f20['player_positions'].apply(lambda x: position(x))"
   ]
  },
  {
   "cell_type": "code",
   "execution_count": 27,
   "metadata": {},
   "outputs": [
    {
     "data": {
      "text/plain": [
       "array(['ED', 'ST', 'EI', 'GK', 'CM', 'DF', 'MP', 'LI', 'LD', 'CD', 'CI'],\n",
       "      dtype=object)"
      ]
     },
     "execution_count": 27,
     "metadata": {},
     "output_type": "execute_result"
    }
   ],
   "source": [
    "f20['player_positions'].unique()"
   ]
  },
  {
   "cell_type": "code",
   "execution_count": 28,
   "metadata": {},
   "outputs": [],
   "source": [
    "f20['player_positions'] = f20['player_positions'].astype('category')"
   ]
  },
  {
   "cell_type": "markdown",
   "metadata": {},
   "source": [
    "**columna preferred_foot**"
   ]
  },
  {
   "cell_type": "code",
   "execution_count": 29,
   "metadata": {},
   "outputs": [
    {
     "data": {
      "text/plain": [
       "array(['Left', 'Right'], dtype=object)"
      ]
     },
     "execution_count": 29,
     "metadata": {},
     "output_type": "execute_result"
    }
   ],
   "source": [
    "f20['preferred_foot'].unique()"
   ]
  },
  {
   "cell_type": "code",
   "execution_count": 30,
   "metadata": {},
   "outputs": [],
   "source": [
    "def pie (row):\n",
    "    groups = {\n",
    "        \"Left\": 1,\n",
    "        \"Right\" : 2\n",
    "    }\n",
    "    return groups[row]"
   ]
  },
  {
   "cell_type": "code",
   "execution_count": 31,
   "metadata": {},
   "outputs": [],
   "source": [
    "f20['preferred_foot'] = f20['preferred_foot'].apply(lambda x: pie(x))"
   ]
  },
  {
   "cell_type": "code",
   "execution_count": 32,
   "metadata": {},
   "outputs": [
    {
     "data": {
      "text/plain": [
       "array([1, 2])"
      ]
     },
     "execution_count": 32,
     "metadata": {},
     "output_type": "execute_result"
    }
   ],
   "source": [
    "f20['preferred_foot'].unique()"
   ]
  },
  {
   "cell_type": "markdown",
   "metadata": {},
   "source": [
    "**columna 'work_rate'**"
   ]
  },
  {
   "cell_type": "code",
   "execution_count": 33,
   "metadata": {},
   "outputs": [
    {
     "data": {
      "text/plain": [
       "array(['Medium/Low', 'High/Low', 'High/Medium', 'Medium/Medium',\n",
       "       'High/High', 'Medium/High', 'Low/High', 'Low/Medium', 'Low/Low'],\n",
       "      dtype=object)"
      ]
     },
     "execution_count": 33,
     "metadata": {},
     "output_type": "execute_result"
    }
   ],
   "source": [
    "f20['work_rate'].unique()"
   ]
  },
  {
   "cell_type": "markdown",
   "metadata": {},
   "source": [
    "los voy a categorizar dando valor 3 a high, 2 a medium y 1 a low, sumo los 2 valores y asi los ordeno"
   ]
  },
  {
   "cell_type": "code",
   "execution_count": 34,
   "metadata": {},
   "outputs": [],
   "source": [
    "def work (row):\n",
    "    groups = {\n",
    "        'High/High': 6,\n",
    "        'Medium/High': 5,\n",
    "        'High/Medium': 5,\n",
    "        'Low/High': 4,\n",
    "        'High/Low': 4,\n",
    "        'Medium/Medium': 4,\n",
    "        'Low/Medium': 3,\n",
    "        'Medium/Low': 3,\n",
    "        'Low/Low': 2\n",
    "    }\n",
    "    return groups[row]"
   ]
  },
  {
   "cell_type": "code",
   "execution_count": 35,
   "metadata": {},
   "outputs": [],
   "source": [
    "f20['work_rate'] = f20['work_rate'].apply(lambda x: work(x))"
   ]
  },
  {
   "cell_type": "code",
   "execution_count": 36,
   "metadata": {},
   "outputs": [
    {
     "data": {
      "text/plain": [
       "array([3, 4, 5, 6, 2])"
      ]
     },
     "execution_count": 36,
     "metadata": {},
     "output_type": "execute_result"
    }
   ],
   "source": [
    "f20['work_rate'].unique()"
   ]
  },
  {
   "cell_type": "markdown",
   "metadata": {},
   "source": [
    "**columnas con NaN**"
   ]
  },
  {
   "cell_type": "code",
   "execution_count": 37,
   "metadata": {},
   "outputs": [],
   "source": [
    "pos = ['pace', 'shooting', 'passing', 'dribbling', 'defending', 'physic','gk_diving',\n",
    "       'gk_handling','gk_kicking', 'gk_reflexes', 'gk_speed','gk_positioning','ls',\n",
    "       'st','rs','lw','lf','cf','rf','rw','lam','cam','ram','lm','lcm','cm','rcm','rm',\n",
    "       'lwb','ldm','cdm','rdm','rwb','lb','lcb','cb','rcb','rb']"
   ]
  },
  {
   "cell_type": "code",
   "execution_count": 38,
   "metadata": {},
   "outputs": [
    {
     "data": {
      "text/plain": [
       "2036"
      ]
     },
     "execution_count": 38,
     "metadata": {},
     "output_type": "execute_result"
    }
   ],
   "source": [
    "f20['ls'].isnull().sum()"
   ]
  },
  {
   "cell_type": "markdown",
   "metadata": {},
   "source": [
    "tengo muchos valores nulos, los voy a cambiar por 0, esto se debe a que dependiendo de la posicion en la que juegue tienes unas habilidades u otras, por ejemplo: los jugadores de campo no tienen habilidades de portero"
   ]
  },
  {
   "cell_type": "code",
   "execution_count": 39,
   "metadata": {},
   "outputs": [],
   "source": [
    "for p in pos:\n",
    "    f20[p] = f20[p].fillna(value=0).astype(\"str\")"
   ]
  },
  {
   "cell_type": "code",
   "execution_count": 40,
   "metadata": {},
   "outputs": [
    {
     "data": {
      "text/plain": [
       "[0,\n",
       " 0,\n",
       " 0,\n",
       " 0,\n",
       " 0,\n",
       " 0,\n",
       " 0,\n",
       " 0,\n",
       " 0,\n",
       " 0,\n",
       " 0,\n",
       " 0,\n",
       " 0,\n",
       " 0,\n",
       " 0,\n",
       " 0,\n",
       " 0,\n",
       " 0,\n",
       " 0,\n",
       " 0,\n",
       " 0,\n",
       " 0,\n",
       " 0,\n",
       " 0,\n",
       " 0,\n",
       " 0,\n",
       " 0,\n",
       " 0,\n",
       " 0,\n",
       " 0,\n",
       " 0,\n",
       " 0,\n",
       " 0,\n",
       " 0,\n",
       " 0,\n",
       " 0,\n",
       " 0,\n",
       " 0,\n",
       " 0,\n",
       " 0,\n",
       " 0,\n",
       " 0,\n",
       " 0,\n",
       " 0,\n",
       " 0,\n",
       " 0,\n",
       " 0,\n",
       " 0,\n",
       " 0,\n",
       " 0,\n",
       " 0,\n",
       " 0,\n",
       " 0,\n",
       " 0,\n",
       " 0,\n",
       " 0,\n",
       " 0,\n",
       " 0,\n",
       " 0,\n",
       " 0,\n",
       " 0,\n",
       " 0,\n",
       " 0,\n",
       " 0,\n",
       " 0,\n",
       " 0,\n",
       " 0,\n",
       " 0,\n",
       " 0,\n",
       " 0,\n",
       " 0,\n",
       " 0,\n",
       " 0,\n",
       " 0,\n",
       " 0,\n",
       " 0,\n",
       " 0,\n",
       " 0,\n",
       " 0,\n",
       " 0,\n",
       " 0,\n",
       " 0,\n",
       " 0,\n",
       " 0,\n",
       " 0,\n",
       " 0,\n",
       " 0]"
      ]
     },
     "execution_count": 40,
     "metadata": {},
     "output_type": "execute_result"
    }
   ],
   "source": [
    "list(f20.isnull().sum())"
   ]
  },
  {
   "cell_type": "code",
   "execution_count": 41,
   "metadata": {},
   "outputs": [
    {
     "data": {
      "text/plain": [
       "array(['89+2', '91+3', '84+3', '0', '83+3', '82+3', '69+3', '77+3',\n",
       "       '86+3', '56+3', '72+3', '58+3', '87+3', '74+3', '86+5', '70+3',\n",
       "       '85+3', '80+3', '81+3', '79+3', '78+3', '76+3', '62+3', '75+3',\n",
       "       '65+2', '77+2', '66+3', '68+3', '82+2', '63+3', '58+2', '71+3',\n",
       "       '64+3', '74+2', '67+3', '57+2', '81+2', '73+2', '73+3', '71+2',\n",
       "       '56+2', '63+2', '79+2', '51+3', '82+4', '76+2', '75+2', '80+2',\n",
       "       '78+2', '57+3', '60+3', '52+2', '62+2', '59+2', '60+2', '68+2',\n",
       "       '61+3', '55+3', '69+2', '72+2', '70+2', '55+2', '61+2', '53+2',\n",
       "       '66+2', '65+3', '67+2', '51+2', '53+3', '54+2', '64+2', '59+3',\n",
       "       '50+3', '50+2', '52+3', '49+2', '48+2', '46+2', '47+2', '44+2',\n",
       "       '43+2', '45+2', '41+2', '37+2', '42+2', '38+2', '40+2', '39+2',\n",
       "       '35+2', '36+2', '34+2', '33+2', '30+2', '31+2', '32+2'],\n",
       "      dtype=object)"
      ]
     },
     "execution_count": 41,
     "metadata": {},
     "output_type": "execute_result"
    }
   ],
   "source": [
    "f20['ls'].unique()"
   ]
  },
  {
   "cell_type": "markdown",
   "metadata": {},
   "source": [
    "**columnas con sumas y restas**"
   ]
  },
  {
   "cell_type": "code",
   "execution_count": 42,
   "metadata": {},
   "outputs": [
    {
     "data": {
      "text/plain": [
       "26"
      ]
     },
     "execution_count": 42,
     "metadata": {},
     "output_type": "execute_result"
    }
   ],
   "source": [
    "col = ['ls','st','rs','lw','lf','cf','rf','rw','lam','cam','ram','lm','lcm','cm','rcm','rm',\n",
    "       'lwb','ldm','cdm','rdm','rwb','lb','lcb','cb','rcb','rb']\n",
    "len(col)"
   ]
  },
  {
   "cell_type": "code",
   "execution_count": 43,
   "metadata": {},
   "outputs": [],
   "source": [
    "for c in col:\n",
    "    f20[c] = f20[c].apply((lambda x: eval(x)))"
   ]
  },
  {
   "cell_type": "code",
   "execution_count": 44,
   "metadata": {},
   "outputs": [
    {
     "data": {
      "text/plain": [
       "[dtype('int64'),\n",
       " dtype('int64'),\n",
       " dtype('int64'),\n",
       " dtype('int64'),\n",
       " dtype('int64'),\n",
       " dtype('int64'),\n",
       " dtype('int64'),\n",
       " dtype('int64'),\n",
       " dtype('int64'),\n",
       " CategoricalDtype(categories=['CD', 'CI', 'CM', 'DF', 'ED', 'EI', 'GK', 'LD', 'LI', 'MP',\n",
       "                   'ST'],\n",
       "                  ordered=False),\n",
       " dtype('int64'),\n",
       " dtype('int64'),\n",
       " dtype('int64'),\n",
       " dtype('int64'),\n",
       " dtype('int64'),\n",
       " dtype('O'),\n",
       " dtype('O'),\n",
       " dtype('O'),\n",
       " dtype('O'),\n",
       " dtype('O'),\n",
       " dtype('O'),\n",
       " dtype('O'),\n",
       " dtype('O'),\n",
       " dtype('O'),\n",
       " dtype('O'),\n",
       " dtype('O'),\n",
       " dtype('O'),\n",
       " dtype('int64'),\n",
       " dtype('int64'),\n",
       " dtype('int64'),\n",
       " dtype('int64'),\n",
       " dtype('int64'),\n",
       " dtype('int64'),\n",
       " dtype('int64'),\n",
       " dtype('int64'),\n",
       " dtype('int64'),\n",
       " dtype('int64'),\n",
       " dtype('int64'),\n",
       " dtype('int64'),\n",
       " dtype('int64'),\n",
       " dtype('int64'),\n",
       " dtype('int64'),\n",
       " dtype('int64'),\n",
       " dtype('int64'),\n",
       " dtype('int64'),\n",
       " dtype('int64'),\n",
       " dtype('int64'),\n",
       " dtype('int64'),\n",
       " dtype('int64'),\n",
       " dtype('int64'),\n",
       " dtype('int64'),\n",
       " dtype('int64'),\n",
       " dtype('int64'),\n",
       " dtype('int64'),\n",
       " dtype('int64'),\n",
       " dtype('int64'),\n",
       " dtype('int64'),\n",
       " dtype('int64'),\n",
       " dtype('int64'),\n",
       " dtype('int64'),\n",
       " dtype('int64'),\n",
       " dtype('int64'),\n",
       " dtype('int64'),\n",
       " dtype('int64'),\n",
       " dtype('int64'),\n",
       " dtype('int64'),\n",
       " dtype('int64'),\n",
       " dtype('int64'),\n",
       " dtype('int64'),\n",
       " dtype('int64'),\n",
       " dtype('int64'),\n",
       " dtype('int64'),\n",
       " dtype('int64'),\n",
       " dtype('int64'),\n",
       " dtype('int64'),\n",
       " dtype('int64'),\n",
       " dtype('int64'),\n",
       " dtype('int64'),\n",
       " dtype('int64'),\n",
       " dtype('int64'),\n",
       " dtype('int64'),\n",
       " dtype('int64'),\n",
       " dtype('int64'),\n",
       " dtype('int64'),\n",
       " dtype('int64'),\n",
       " dtype('int64'),\n",
       " dtype('int64')]"
      ]
     },
     "execution_count": 44,
     "metadata": {},
     "output_type": "execute_result"
    }
   ],
   "source": [
    "list(f20.dtypes)"
   ]
  },
  {
   "cell_type": "code",
   "execution_count": 45,
   "metadata": {},
   "outputs": [
    {
     "data": {
      "text/plain": [
       "Index(['age', 'height_cm', 'weight_kg', 'nationality', 'club', 'overall',\n",
       "       'potential', 'value_eur', 'wage_eur', 'player_positions',\n",
       "       'preferred_foot', 'international_reputation', 'weak_foot',\n",
       "       'skill_moves', 'work_rate', 'pace', 'shooting', 'passing', 'dribbling',\n",
       "       'defending', 'physic', 'gk_diving', 'gk_handling', 'gk_kicking',\n",
       "       'gk_reflexes', 'gk_speed', 'gk_positioning', 'attacking_crossing',\n",
       "       'attacking_finishing', 'attacking_heading_accuracy',\n",
       "       'attacking_short_passing', 'attacking_volleys', 'skill_dribbling',\n",
       "       'skill_curve', 'skill_fk_accuracy', 'skill_long_passing',\n",
       "       'skill_ball_control', 'movement_acceleration', 'movement_sprint_speed',\n",
       "       'movement_agility', 'movement_reactions', 'movement_balance',\n",
       "       'power_shot_power', 'power_jumping', 'power_stamina', 'power_strength',\n",
       "       'power_long_shots', 'mentality_aggression', 'mentality_interceptions',\n",
       "       'mentality_positioning', 'mentality_vision', 'mentality_penalties',\n",
       "       'defending_marking', 'defending_standing_tackle',\n",
       "       'defending_sliding_tackle', 'goalkeeping_diving',\n",
       "       'goalkeeping_handling', 'goalkeeping_kicking',\n",
       "       'goalkeeping_positioning', 'goalkeeping_reflexes', 'ls', 'st', 'rs',\n",
       "       'lw', 'lf', 'cf', 'rf', 'rw', 'lam', 'cam', 'ram', 'lm', 'lcm', 'cm',\n",
       "       'rcm', 'rm', 'lwb', 'ldm', 'cdm', 'rdm', 'rwb', 'lb', 'lcb', 'cb',\n",
       "       'rcb', 'rb', 'year'],\n",
       "      dtype='object')"
      ]
     },
     "execution_count": 45,
     "metadata": {},
     "output_type": "execute_result"
    }
   ],
   "source": [
    "f20.columns"
   ]
  },
  {
   "cell_type": "code",
   "execution_count": 46,
   "metadata": {},
   "outputs": [
    {
     "data": {
      "text/html": [
       "<div>\n",
       "<style scoped>\n",
       "    .dataframe tbody tr th:only-of-type {\n",
       "        vertical-align: middle;\n",
       "    }\n",
       "\n",
       "    .dataframe tbody tr th {\n",
       "        vertical-align: top;\n",
       "    }\n",
       "\n",
       "    .dataframe thead th {\n",
       "        text-align: right;\n",
       "    }\n",
       "</style>\n",
       "<table border=\"1\" class=\"dataframe\">\n",
       "  <thead>\n",
       "    <tr style=\"text-align: right;\">\n",
       "      <th></th>\n",
       "      <th>age</th>\n",
       "      <th>height_cm</th>\n",
       "      <th>weight_kg</th>\n",
       "      <th>nationality</th>\n",
       "      <th>club</th>\n",
       "      <th>overall</th>\n",
       "      <th>potential</th>\n",
       "      <th>value_eur</th>\n",
       "      <th>wage_eur</th>\n",
       "      <th>player_positions</th>\n",
       "      <th>...</th>\n",
       "      <th>ldm</th>\n",
       "      <th>cdm</th>\n",
       "      <th>rdm</th>\n",
       "      <th>rwb</th>\n",
       "      <th>lb</th>\n",
       "      <th>lcb</th>\n",
       "      <th>cb</th>\n",
       "      <th>rcb</th>\n",
       "      <th>rb</th>\n",
       "      <th>year</th>\n",
       "    </tr>\n",
       "    <tr>\n",
       "      <th>sofifa_id</th>\n",
       "      <th></th>\n",
       "      <th></th>\n",
       "      <th></th>\n",
       "      <th></th>\n",
       "      <th></th>\n",
       "      <th></th>\n",
       "      <th></th>\n",
       "      <th></th>\n",
       "      <th></th>\n",
       "      <th></th>\n",
       "      <th></th>\n",
       "      <th></th>\n",
       "      <th></th>\n",
       "      <th></th>\n",
       "      <th></th>\n",
       "      <th></th>\n",
       "      <th></th>\n",
       "      <th></th>\n",
       "      <th></th>\n",
       "      <th></th>\n",
       "      <th></th>\n",
       "    </tr>\n",
       "  </thead>\n",
       "  <tbody>\n",
       "    <tr>\n",
       "      <th>158023</th>\n",
       "      <td>32</td>\n",
       "      <td>170</td>\n",
       "      <td>72</td>\n",
       "      <td>1</td>\n",
       "      <td>1</td>\n",
       "      <td>94</td>\n",
       "      <td>94</td>\n",
       "      <td>95500000</td>\n",
       "      <td>565000</td>\n",
       "      <td>ED</td>\n",
       "      <td>...</td>\n",
       "      <td>68</td>\n",
       "      <td>68</td>\n",
       "      <td>68</td>\n",
       "      <td>70</td>\n",
       "      <td>65</td>\n",
       "      <td>54</td>\n",
       "      <td>54</td>\n",
       "      <td>54</td>\n",
       "      <td>65</td>\n",
       "      <td>20</td>\n",
       "    </tr>\n",
       "    <tr>\n",
       "      <th>20801</th>\n",
       "      <td>34</td>\n",
       "      <td>187</td>\n",
       "      <td>83</td>\n",
       "      <td>1</td>\n",
       "      <td>1</td>\n",
       "      <td>93</td>\n",
       "      <td>93</td>\n",
       "      <td>58500000</td>\n",
       "      <td>405000</td>\n",
       "      <td>ST</td>\n",
       "      <td>...</td>\n",
       "      <td>64</td>\n",
       "      <td>64</td>\n",
       "      <td>64</td>\n",
       "      <td>68</td>\n",
       "      <td>64</td>\n",
       "      <td>56</td>\n",
       "      <td>56</td>\n",
       "      <td>56</td>\n",
       "      <td>64</td>\n",
       "      <td>20</td>\n",
       "    </tr>\n",
       "    <tr>\n",
       "      <th>190871</th>\n",
       "      <td>27</td>\n",
       "      <td>175</td>\n",
       "      <td>68</td>\n",
       "      <td>1</td>\n",
       "      <td>1</td>\n",
       "      <td>92</td>\n",
       "      <td>92</td>\n",
       "      <td>105500000</td>\n",
       "      <td>290000</td>\n",
       "      <td>EI</td>\n",
       "      <td>...</td>\n",
       "      <td>64</td>\n",
       "      <td>64</td>\n",
       "      <td>64</td>\n",
       "      <td>69</td>\n",
       "      <td>64</td>\n",
       "      <td>49</td>\n",
       "      <td>49</td>\n",
       "      <td>49</td>\n",
       "      <td>64</td>\n",
       "      <td>20</td>\n",
       "    </tr>\n",
       "    <tr>\n",
       "      <th>200389</th>\n",
       "      <td>26</td>\n",
       "      <td>188</td>\n",
       "      <td>87</td>\n",
       "      <td>4</td>\n",
       "      <td>1</td>\n",
       "      <td>91</td>\n",
       "      <td>93</td>\n",
       "      <td>77500000</td>\n",
       "      <td>125000</td>\n",
       "      <td>GK</td>\n",
       "      <td>...</td>\n",
       "      <td>0</td>\n",
       "      <td>0</td>\n",
       "      <td>0</td>\n",
       "      <td>0</td>\n",
       "      <td>0</td>\n",
       "      <td>0</td>\n",
       "      <td>0</td>\n",
       "      <td>0</td>\n",
       "      <td>0</td>\n",
       "      <td>20</td>\n",
       "    </tr>\n",
       "    <tr>\n",
       "      <th>183277</th>\n",
       "      <td>28</td>\n",
       "      <td>175</td>\n",
       "      <td>74</td>\n",
       "      <td>1</td>\n",
       "      <td>1</td>\n",
       "      <td>91</td>\n",
       "      <td>91</td>\n",
       "      <td>90000000</td>\n",
       "      <td>470000</td>\n",
       "      <td>EI</td>\n",
       "      <td>...</td>\n",
       "      <td>66</td>\n",
       "      <td>66</td>\n",
       "      <td>66</td>\n",
       "      <td>69</td>\n",
       "      <td>64</td>\n",
       "      <td>52</td>\n",
       "      <td>52</td>\n",
       "      <td>52</td>\n",
       "      <td>64</td>\n",
       "      <td>20</td>\n",
       "    </tr>\n",
       "  </tbody>\n",
       "</table>\n",
       "<p>5 rows × 87 columns</p>\n",
       "</div>"
      ],
      "text/plain": [
       "           age  height_cm  weight_kg  nationality  club  overall  potential  \\\n",
       "sofifa_id                                                                     \n",
       "158023      32        170         72            1     1       94         94   \n",
       "20801       34        187         83            1     1       93         93   \n",
       "190871      27        175         68            1     1       92         92   \n",
       "200389      26        188         87            4     1       91         93   \n",
       "183277      28        175         74            1     1       91         91   \n",
       "\n",
       "           value_eur  wage_eur player_positions  ...  ldm  cdm  rdm  rwb  lb  \\\n",
       "sofifa_id                                        ...                           \n",
       "158023      95500000    565000               ED  ...   68   68   68   70  65   \n",
       "20801       58500000    405000               ST  ...   64   64   64   68  64   \n",
       "190871     105500000    290000               EI  ...   64   64   64   69  64   \n",
       "200389      77500000    125000               GK  ...    0    0    0    0   0   \n",
       "183277      90000000    470000               EI  ...   66   66   66   69  64   \n",
       "\n",
       "          lcb  cb rcb  rb year  \n",
       "sofifa_id                       \n",
       "158023     54  54  54  65   20  \n",
       "20801      56  56  56  64   20  \n",
       "190871     49  49  49  64   20  \n",
       "200389      0   0   0   0   20  \n",
       "183277     52  52  52  64   20  \n",
       "\n",
       "[5 rows x 87 columns]"
      ]
     },
     "execution_count": 46,
     "metadata": {},
     "output_type": "execute_result"
    }
   ],
   "source": [
    "f20.head()"
   ]
  },
  {
   "cell_type": "code",
   "execution_count": 47,
   "metadata": {},
   "outputs": [],
   "source": [
    "f20.to_csv(\"./output/f20.csv\")"
   ]
  },
  {
   "cell_type": "code",
   "execution_count": 50,
   "metadata": {},
   "outputs": [
    {
     "data": {
      "text/plain": [
       "array(['0.0', '92.0', '85.0', '84.0', '82.0', '89.0', '87.0', '81.0',\n",
       "       '80.0', '86.0', '79.0', '83.0', '78.0', '77.0', '75.0', '72.0',\n",
       "       '73.0', '74.0', '76.0', '71.0', '69.0', '70.0', '68.0', '67.0',\n",
       "       '65.0', '64.0', '63.0', '62.0', '66.0', '61.0', '60.0', '58.0',\n",
       "       '55.0', '59.0', '57.0', '51.0', '54.0', '47.0', '56.0', '43.0',\n",
       "       '53.0', '50.0', '52.0', '48.0', '49.0', '45.0', '46.0', '42.0'],\n",
       "      dtype=object)"
      ]
     },
     "execution_count": 50,
     "metadata": {},
     "output_type": "execute_result"
    }
   ],
   "source": [
    "f20.gk_handling.unique()"
   ]
  },
  {
   "cell_type": "code",
   "execution_count": null,
   "metadata": {},
   "outputs": [],
   "source": []
  },
  {
   "cell_type": "code",
   "execution_count": null,
   "metadata": {},
   "outputs": [],
   "source": []
  },
  {
   "cell_type": "code",
   "execution_count": null,
   "metadata": {},
   "outputs": [],
   "source": []
  }
 ],
 "metadata": {
  "kernelspec": {
   "display_name": "Python 3",
   "language": "python",
   "name": "python3"
  },
  "language_info": {
   "codemirror_mode": {
    "name": "ipython",
    "version": 3
   },
   "file_extension": ".py",
   "mimetype": "text/x-python",
   "name": "python",
   "nbconvert_exporter": "python",
   "pygments_lexer": "ipython3",
   "version": "3.6.9"
  }
 },
 "nbformat": 4,
 "nbformat_minor": 2
}
