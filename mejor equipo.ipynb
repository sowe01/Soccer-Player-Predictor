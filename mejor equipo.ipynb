{
 "cells": [
  {
   "cell_type": "markdown",
   "metadata": {},
   "source": [
    "Importo los data del 2015 al 2020"
   ]
  },
  {
   "cell_type": "code",
   "execution_count": 15,
   "metadata": {},
   "outputs": [],
   "source": [
    "import pandas as pd\n",
    "import numpy as np\n",
    "\n",
    "df20 = pd.read_csv('./input/players_20.csv')\n",
    "df19 = pd.read_csv('./input/players_19.csv')\n",
    "df18 = pd.read_csv('./input/players_18.csv')\n",
    "df17 = pd.read_csv('./input/players_17.csv')\n",
    "df16 = pd.read_csv('./input/players_16.csv')\n",
    "df15 = pd.read_csv('./input/players_15.csv')"
   ]
  },
  {
   "cell_type": "markdown",
   "metadata": {},
   "source": [
    "Trabajo con la columna 'player_positions', utilizo solo la primera posición, que es la mas usada por el jugador"
   ]
  },
  {
   "cell_type": "code",
   "execution_count": 16,
   "metadata": {},
   "outputs": [],
   "source": [
    "df=[df15, df16, df17, df18, df19, df20]\n",
    "for a in df:\n",
    "    a['player_positions'] = a['player_positions'].str.split(',').str[0]\n",
    "    a['overall'] = a['overall'].round()"
   ]
  },
  {
   "cell_type": "code",
   "execution_count": 17,
   "metadata": {},
   "outputs": [
    {
     "data": {
      "text/plain": [
       "array(['CF', 'LW', 'RM', 'ST', 'GK', 'LM', 'CM', 'CDM', 'CB', 'CAM', 'RW',\n",
       "       'RB', 'LB', 'LWB', 'RWB'], dtype=object)"
      ]
     },
     "execution_count": 17,
     "metadata": {},
     "output_type": "execute_result"
    }
   ],
   "source": [
    "df15['player_positions'].unique()"
   ]
  },
  {
   "cell_type": "markdown",
   "metadata": {},
   "source": [
    "Agrupo las posiciones para dejarlas en 11 y ponerles nombres en castellano"
   ]
  },
  {
   "cell_type": "code",
   "execution_count": 18,
   "metadata": {},
   "outputs": [
    {
     "data": {
      "text/plain": [
       "array([93, 92, 90, 89, 88, 87, 86, 85, 84, 83, 82, 81, 80, 79, 78, 77, 76,\n",
       "       75, 74, 73, 72, 71, 70, 69, 68, 67, 66, 65, 64, 63, 62, 61, 60, 59,\n",
       "       58, 57, 56, 55, 54, 53, 52, 51, 50, 49, 48, 47, 46, 45, 44, 43, 42,\n",
       "       41, 40])"
      ]
     },
     "execution_count": 18,
     "metadata": {},
     "output_type": "execute_result"
    }
   ],
   "source": [
    "df15['overall'].unique()"
   ]
  },
  {
   "cell_type": "code",
   "execution_count": 19,
   "metadata": {},
   "outputs": [],
   "source": [
    "def position (row):\n",
    "    groups = {\n",
    "        'CF' : 'MP',\n",
    "        'LW' : 'EI',\n",
    "        'RW' : 'ED',\n",
    "        'RM' : 'CD',\n",
    "        'LM' : 'CI',\n",
    "        'CDM' : 'CM',\n",
    "        'CAM' : 'CM',\n",
    "        'RB' : 'LD',\n",
    "        'RWB' : 'LD',\n",
    "        'LB' : 'LI',\n",
    "        'LWB' : 'LI',\n",
    "        'CB' : 'DF',\n",
    "        'ST' : 'ST',\n",
    "        'GK' : 'GK',\n",
    "        'CM' : 'CM',\n",
    "    }\n",
    "    return groups[row]\n",
    "\n",
    "for a in df:\n",
    "    a['player_positions'] = a['player_positions'].apply(lambda x: position(x))"
   ]
  },
  {
   "cell_type": "code",
   "execution_count": 20,
   "metadata": {},
   "outputs": [
    {
     "data": {
      "text/plain": [
       "array(['ED', 'ST', 'EI', 'GK', 'CM', 'DF', 'MP', 'LI', 'LD', 'CD', 'CI'],\n",
       "      dtype=object)"
      ]
     },
     "execution_count": 20,
     "metadata": {},
     "output_type": "execute_result"
    }
   ],
   "source": [
    "df20['player_positions'].unique()"
   ]
  },
  {
   "cell_type": "code",
   "execution_count": 21,
   "metadata": {},
   "outputs": [],
   "source": [
    "df15 = df15[['sofifa_id','short_name','player_positions','overall','age']]\n",
    "df16 = df16[['sofifa_id','short_name','player_positions','overall','age']]\n",
    "df17 = df17[['sofifa_id','short_name','player_positions','overall','age']]\n",
    "df18 = df18[['sofifa_id','short_name','player_positions','overall','age']]\n",
    "df19 = df19[['sofifa_id','short_name','player_positions','overall','age']]\n",
    "df20 = df20[['sofifa_id','short_name','player_positions','overall','age']]"
   ]
  },
  {
   "cell_type": "code",
   "execution_count": 22,
   "metadata": {},
   "outputs": [
    {
     "data": {
      "text/html": [
       "<div>\n",
       "<style scoped>\n",
       "    .dataframe tbody tr th:only-of-type {\n",
       "        vertical-align: middle;\n",
       "    }\n",
       "\n",
       "    .dataframe tbody tr th {\n",
       "        vertical-align: top;\n",
       "    }\n",
       "\n",
       "    .dataframe thead th {\n",
       "        text-align: right;\n",
       "    }\n",
       "</style>\n",
       "<table border=\"1\" class=\"dataframe\">\n",
       "  <thead>\n",
       "    <tr style=\"text-align: right;\">\n",
       "      <th></th>\n",
       "      <th>sofifa_id</th>\n",
       "      <th>short_name</th>\n",
       "      <th>player_positions</th>\n",
       "      <th>overall</th>\n",
       "      <th>age</th>\n",
       "    </tr>\n",
       "  </thead>\n",
       "  <tbody>\n",
       "    <tr>\n",
       "      <th>0</th>\n",
       "      <td>158023</td>\n",
       "      <td>L. Messi</td>\n",
       "      <td>MP</td>\n",
       "      <td>93</td>\n",
       "      <td>27</td>\n",
       "    </tr>\n",
       "    <tr>\n",
       "      <th>1</th>\n",
       "      <td>20801</td>\n",
       "      <td>Cristiano Ronaldo</td>\n",
       "      <td>EI</td>\n",
       "      <td>92</td>\n",
       "      <td>29</td>\n",
       "    </tr>\n",
       "    <tr>\n",
       "      <th>2</th>\n",
       "      <td>9014</td>\n",
       "      <td>A. Robben</td>\n",
       "      <td>CD</td>\n",
       "      <td>90</td>\n",
       "      <td>30</td>\n",
       "    </tr>\n",
       "    <tr>\n",
       "      <th>3</th>\n",
       "      <td>41236</td>\n",
       "      <td>Z. Ibrahimović</td>\n",
       "      <td>ST</td>\n",
       "      <td>90</td>\n",
       "      <td>32</td>\n",
       "    </tr>\n",
       "    <tr>\n",
       "      <th>4</th>\n",
       "      <td>167495</td>\n",
       "      <td>M. Neuer</td>\n",
       "      <td>GK</td>\n",
       "      <td>90</td>\n",
       "      <td>28</td>\n",
       "    </tr>\n",
       "  </tbody>\n",
       "</table>\n",
       "</div>"
      ],
      "text/plain": [
       "   sofifa_id         short_name player_positions  overall  age\n",
       "0     158023           L. Messi               MP       93   27\n",
       "1      20801  Cristiano Ronaldo               EI       92   29\n",
       "2       9014          A. Robben               CD       90   30\n",
       "3      41236     Z. Ibrahimović               ST       90   32\n",
       "4     167495           M. Neuer               GK       90   28"
      ]
     },
     "execution_count": 22,
     "metadata": {},
     "output_type": "execute_result"
    }
   ],
   "source": [
    "df15.head()\n"
   ]
  },
  {
   "cell_type": "code",
   "execution_count": 23,
   "metadata": {},
   "outputs": [],
   "source": [
    "df15.to_csv(\"./output/df15.csv\")\n",
    "df16.to_csv(\"./output/df16.csv\")\n",
    "df17.to_csv(\"./output/df17.csv\")\n",
    "df18.to_csv(\"./output/df18.csv\")\n",
    "df19.to_csv(\"./output/df19.csv\")\n",
    "df20.to_csv(\"./output/df20.csv\")"
   ]
  },
  {
   "cell_type": "markdown",
   "metadata": {},
   "source": [
    "Funcion para conseguir que me diga los mejores jugadores por posición de cada año, y dentro de unas formaciones preestablecidas por mi"
   ]
  },
  {
   "cell_type": "code",
   "execution_count": 27,
   "metadata": {},
   "outputs": [
    {
     "name": "stdout",
     "output_type": "stream",
     "text": [
      "4-3-3 in FIFA 20\n",
      "Position              Player Overall\n",
      "      GK            J. Oblak      91\n",
      "      LI          Jordi Alba      87\n",
      "      DF         V. van Dijk      90\n",
      "      DF        K. Koulibaly      89\n",
      "      LD          J. Kimmich      86\n",
      "      CM        K. De Bruyne      91\n",
      "      CM           L. Modrić      90\n",
      "      CM            N. Kanté      89\n",
      "      EI           Neymar Jr      92\n",
      "      ST   Cristiano Ronaldo      93\n",
      "      ED            L. Messi      94\n",
      "3-4-3 in FIFA 19\n",
      "Position              Player Overall\n",
      "      GK              De Gea      91\n",
      "      DF        Sergio Ramos      91\n",
      "      DF            D. Godín      90\n",
      "      DF        G. Chiellini      89\n",
      "      CI          I. Perišić      86\n",
      "      CM        K. De Bruyne      91\n",
      "      CM           L. Modrić      91\n",
      "      CD           A. Robben      85\n",
      "      EI           Neymar Jr      92\n",
      "      ST   Cristiano Ronaldo      94\n",
      "      ED            M. Salah      88\n",
      "3-5-2 in FIFA 18\n",
      "Position           Player Overall\n",
      "      GK         M. Neuer      92\n",
      "      DF     Sergio Ramos      90\n",
      "      DF     G. Chiellini      89\n",
      "      DF     Thiago Silva      88\n",
      "      LI          Marcelo      87\n",
      "      LD         Carvajal      84\n",
      "      CM         T. Kroos      90\n",
      "      CM     K. De Bruyne      89\n",
      "      MP       D. Mertens      86\n",
      "      ST        L. Suárez      92\n",
      "      ST   R. Lewandowski      91\n",
      "4-2-2 in FIFA 17\n",
      "Position           Player Overall\n",
      "      GK         M. Neuer      92\n",
      "      LI         D. Alaba      87\n",
      "      DF       J. Boateng      90\n",
      "      DF     Sergio Ramos      89\n",
      "      LD          P. Lahm      88\n",
      "      CI        E. Hazard      88\n",
      "      CM          M. Özil      89\n",
      "      CM        L. Modrić      89\n",
      "      CD        A. Robben      87\n",
      "      ST        L. Suárez      92\n",
      "      ST   Z. Ibrahimović      90\n",
      "5-2-3 in FIFA 16\n",
      "Position           Player Overall\n",
      "      GK         M. Neuer      90\n",
      "      LI         D. Alaba      85\n",
      "      DF     Thiago Silva      88\n",
      "      DF       J. Boateng      87\n",
      "      DF     G. Chiellini      87\n",
      "      LD       Dani Alves      84\n",
      "      CM      David Silva      88\n",
      "      CM     J. Rodríguez      87\n",
      "      ST        L. Suárez      90\n",
      "      ST   Z. Ibrahimović      89\n",
      "      ST   R. Lewandowski      87\n",
      "4-5-1 in FIFA 15\n",
      "Position              Player Overall\n",
      "      GK            M. Neuer      90\n",
      "      LI            D. Alaba      82\n",
      "      DF        Sergio Ramos      87\n",
      "      DF        Thiago Silva      87\n",
      "      LD          Dani Alves      83\n",
      "      CM   B. Schweinsteiger      88\n",
      "      CM             P. Lahm      87\n",
      "      EI   Cristiano Ronaldo      92\n",
      "      MP            L. Messi      93\n",
      "      ED          A. Sánchez      84\n",
      "      ST      Z. Ibrahimović      90\n"
     ]
    }
   ],
   "source": [
    "def get_best_squad(df_name, position):\n",
    "    df_copy = df_name.copy()\n",
    "    store = []\n",
    "    for i in position:\n",
    "        store.append([i,df_copy.loc[[df_copy[df_copy['player_positions'] == i]['overall'].idxmax()]]['short_name'].to_string(index = False), df_copy[df_copy['player_positions'] == i]['overall'].max()])\n",
    "        df_copy.drop(df_copy[df_copy['player_positions'] == i]['overall'].idxmax(), inplace = True)\n",
    "    #return store\n",
    "    return pd.DataFrame(np.array(store).reshape(11,3), columns = ['Position', 'Player', 'Overall']).to_string(index = False)\n",
    "\n",
    "\n",
    "squad_433 = ['GK', 'LI', 'DF', 'DF', 'LD', 'CM', 'CM', 'CM', 'EI', 'ST', 'ED']\n",
    "squad_343 = ['GK', 'DF', 'DF', 'DF', 'CI', 'CM', 'CM', 'CD', 'EI', 'ST', 'ED']\n",
    "squad_352 = ['GK', 'DF', 'DF', 'DF', 'LI', 'LD', 'CM', 'CM', 'MP', 'ST', 'ST']\n",
    "squad_442 = ['GK', 'LI', 'DF', 'DF', 'LD', 'CI', 'CM', 'CM', 'CD', 'ST', 'ST']\n",
    "squad_523 = ['GK', 'LI', 'DF', 'DF', 'DF', 'LD', 'CM', 'CM', 'ST', 'ST', 'ST']\n",
    "squad_451 = ['GK', 'LI', 'DF', 'DF', 'LD', 'CM', 'CM', 'EI', 'MP', 'ED', 'ST']\n",
    "\n",
    "\n",
    "print ('4-3-3 in FIFA 20')\n",
    "print (get_best_squad(df20, squad_433))\n",
    "print ('3-4-3 in FIFA 19')\n",
    "print (get_best_squad(df19, squad_343))\n",
    "print ('3-5-2 in FIFA 18')\n",
    "print (get_best_squad(df18, squad_352))\n",
    "print ('4-2-2 in FIFA 17')\n",
    "print (get_best_squad(df17, squad_442))\n",
    "print ('5-2-3 in FIFA 16')\n",
    "print (get_best_squad(df16, squad_523))\n",
    "print ('4-5-1 in FIFA 15')\n",
    "print (get_best_squad(df15, squad_451))"
   ]
  },
  {
   "cell_type": "markdown",
   "metadata": {},
   "source": [
    "Hago lo mismo con la prediccion de 2021"
   ]
  },
  {
   "cell_type": "code",
   "execution_count": null,
   "metadata": {},
   "outputs": [],
   "source": [
    "testing = pd.read_csv('output/predictfinal2.csv')\n",
    "testing.head()"
   ]
  },
  {
   "cell_type": "code",
   "execution_count": null,
   "metadata": {},
   "outputs": [],
   "source": [
    "testing['overall'] = testing['overall'].round()\n",
    "testing['overall'] = testing['overall'].astype('int')"
   ]
  },
  {
   "cell_type": "code",
   "execution_count": null,
   "metadata": {},
   "outputs": [],
   "source": [
    "testing.head()"
   ]
  },
  {
   "cell_type": "markdown",
   "metadata": {},
   "source": [
    "Añado las columnas 'best_position' y 'short_name'"
   ]
  },
  {
   "cell_type": "code",
   "execution_count": null,
   "metadata": {},
   "outputs": [],
   "source": [
    "listaa=['player_positions','short_name']\n",
    "for a in listaa:\n",
    "    testing[a] = df20[[a]]"
   ]
  },
  {
   "cell_type": "code",
   "execution_count": null,
   "metadata": {},
   "outputs": [],
   "source": [
    "testing.head()"
   ]
  },
  {
   "cell_type": "markdown",
   "metadata": {},
   "source": [
    "Lo pruebo y ..."
   ]
  },
  {
   "cell_type": "code",
   "execution_count": null,
   "metadata": {},
   "outputs": [],
   "source": [
    "print ('4-3-3 in FIFA 21')\n",
    "print (get_best_squad(testing, squad_433))"
   ]
  },
  {
   "cell_type": "markdown",
   "metadata": {},
   "source": [
    "## edad"
   ]
  },
  {
   "cell_type": "code",
   "execution_count": null,
   "metadata": {},
   "outputs": [],
   "source": [
    "df20[df20['age']==20]"
   ]
  },
  {
   "cell_type": "markdown",
   "metadata": {},
   "source": [
    "funcion que me devuelve los jugadores que estan en un rango de edad, desde 'n'(minimo) hasta 'm'(maximo)"
   ]
  },
  {
   "cell_type": "code",
   "execution_count": null,
   "metadata": {},
   "outputs": [],
   "source": [
    "def age(df,n,m):\n",
    "    return df[(df['age'] >= n) & (df['age'] < m)]"
   ]
  },
  {
   "cell_type": "code",
   "execution_count": null,
   "metadata": {},
   "outputs": [],
   "source": [
    "age (df20, 17, 21)"
   ]
  },
  {
   "cell_type": "markdown",
   "metadata": {},
   "source": [
    "## Evolución!!"
   ]
  },
  {
   "cell_type": "markdown",
   "metadata": {},
   "source": [
    "añando la columna 'overall' del 2020 para hacer la comparacion con la predicción del 2021, y ordenos las columnas para que visualmente sea mas atractivo"
   ]
  },
  {
   "cell_type": "code",
   "execution_count": null,
   "metadata": {},
   "outputs": [],
   "source": [
    "testing['overall_2020'] = df20[['overall']]\n",
    "testing.head()"
   ]
  },
  {
   "cell_type": "code",
   "execution_count": null,
   "metadata": {},
   "outputs": [],
   "source": [
    "testing = testing[['sofifa_id','short_name', 'player_positions', 'overall_2020', 'overall']]\n",
    "testing.head()"
   ]
  },
  {
   "cell_type": "code",
   "execution_count": null,
   "metadata": {},
   "outputs": [],
   "source": [
    "testing['evol'] = (testing['overall']-testing['overall_2020'])"
   ]
  },
  {
   "cell_type": "code",
   "execution_count": null,
   "metadata": {},
   "outputs": [],
   "source": [
    "testing.head()"
   ]
  },
  {
   "cell_type": "code",
   "execution_count": null,
   "metadata": {},
   "outputs": [],
   "source": [
    "testing.to_csv(\"./output/testing.csv\")"
   ]
  },
  {
   "cell_type": "markdown",
   "metadata": {},
   "source": [
    "Funcion para decidir el once que mas va a evolucionar en un año, por posicion "
   ]
  },
  {
   "cell_type": "code",
   "execution_count": null,
   "metadata": {},
   "outputs": [],
   "source": [
    "def get_best_eval(df_name, position):\n",
    "    df_copy = df_name.copy()\n",
    "    store = []\n",
    "    for i in position:\n",
    "        store.append([i,df_copy.loc[[df_copy[df_copy['player_positions'] == i]['evol'].idxmax()]]['short_name'].to_string(index = False), df_copy[df_copy['player_positions'] == i]['evol'].max()])\n",
    "        df_copy.drop(df_copy[df_copy['player_positions'] == i]['evol'].idxmax(), inplace = True)\n",
    "    #return store\n",
    "    return pd.DataFrame(np.array(store).reshape(11,3), columns = ['Position', 'Player', 'evol']).to_string(index = False)"
   ]
  },
  {
   "cell_type": "code",
   "execution_count": null,
   "metadata": {},
   "outputs": [],
   "source": [
    "print ('4-3-3 in testing')\n",
    "print (get_best_eval(testing, squad_433))"
   ]
  },
  {
   "cell_type": "markdown",
   "metadata": {},
   "source": [
    "Funcion para decidir el once que mas va a empeorar en un año, por posicion"
   ]
  },
  {
   "cell_type": "code",
   "execution_count": null,
   "metadata": {},
   "outputs": [],
   "source": [
    "def get_worst_eval(df_name, position):\n",
    "    df_copy = df_name.copy()\n",
    "    store = []\n",
    "    for i in position:\n",
    "        store.append([i,df_copy.loc[[df_copy[df_copy['player_positions'] == i]['evol'].idxmax()]]['short_name'].to_string(index = False), df_copy[df_copy['player_positions'] == i]['evol'].min()])\n",
    "        df_copy.drop(df_copy[df_copy['player_positions'] == i]['evol'].idxmax(), inplace = True)\n",
    "    #return store\n",
    "    return pd.DataFrame(np.array(store).reshape(11,3), columns = ['Position', 'Player', 'evol']).to_string(index = False)"
   ]
  },
  {
   "cell_type": "code",
   "execution_count": null,
   "metadata": {},
   "outputs": [],
   "source": [
    "print ('4-3-3 in testing')\n",
    "print (get_worst_eval(testing, squad_433))"
   ]
  },
  {
   "cell_type": "code",
   "execution_count": null,
   "metadata": {},
   "outputs": [],
   "source": []
  },
  {
   "cell_type": "code",
   "execution_count": null,
   "metadata": {},
   "outputs": [],
   "source": []
  },
  {
   "cell_type": "markdown",
   "metadata": {},
   "source": [
    "testing con evol de todos los años"
   ]
  },
  {
   "cell_type": "code",
   "execution_count": null,
   "metadata": {},
   "outputs": [],
   "source": [
    "testing['overall_15'] = df15[['overall']]\n",
    "testing['overall_16'] = df16[['overall']]\n",
    "testing['overall_17'] = df17[['overall']]\n",
    "testing['overall_18'] = df18[['overall']]\n",
    "testing['overall_19'] = df19[['overall']]\n",
    "testing['overall_20'] = df20[['overall']]\n",
    "\n",
    "testing.head()"
   ]
  },
  {
   "cell_type": "code",
   "execution_count": null,
   "metadata": {},
   "outputs": [],
   "source": [
    "testing = testing[['sofifa_id','short_name','player_positions','overall_15','overall_16', 'overall_17','overall_18','overall_19','overall_20', 'overall']]\n",
    "testing.head()"
   ]
  },
  {
   "cell_type": "code",
   "execution_count": null,
   "metadata": {},
   "outputs": [],
   "source": [
    "testing.to_csv(\"./output/testing2.csv\")"
   ]
  },
  {
   "cell_type": "code",
   "execution_count": null,
   "metadata": {},
   "outputs": [],
   "source": []
  }
 ],
 "metadata": {
  "kernelspec": {
   "display_name": "Python 3",
   "language": "python",
   "name": "python3"
  },
  "language_info": {
   "codemirror_mode": {
    "name": "ipython",
    "version": 3
   },
   "file_extension": ".py",
   "mimetype": "text/x-python",
   "name": "python",
   "nbconvert_exporter": "python",
   "pygments_lexer": "ipython3",
   "version": "3.6.9"
  }
 },
 "nbformat": 4,
 "nbformat_minor": 2
}
